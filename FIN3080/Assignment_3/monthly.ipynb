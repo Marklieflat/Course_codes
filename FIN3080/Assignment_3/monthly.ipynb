{
 "cells": [
  {
   "cell_type": "code",
   "execution_count": 1,
   "id": "9b996394",
   "metadata": {},
   "outputs": [],
   "source": [
    "import pandas as pd\n",
    "import numpy as np\n",
    "import matplotlib.pyplot as plt\n",
    "from scipy import stats"
   ]
  },
  {
   "cell_type": "code",
   "execution_count": 2,
   "id": "aff14acb",
   "metadata": {},
   "outputs": [
    {
     "data": {
      "text/html": [
       "<div>\n",
       "<style scoped>\n",
       "    .dataframe tbody tr th:only-of-type {\n",
       "        vertical-align: middle;\n",
       "    }\n",
       "\n",
       "    .dataframe tbody tr th {\n",
       "        vertical-align: top;\n",
       "    }\n",
       "\n",
       "    .dataframe thead th {\n",
       "        text-align: right;\n",
       "    }\n",
       "</style>\n",
       "<table border=\"1\" class=\"dataframe\">\n",
       "  <thead>\n",
       "    <tr style=\"text-align: right;\">\n",
       "      <th></th>\n",
       "      <th>Symbol</th>\n",
       "      <th>CloseDate</th>\n",
       "      <th>ret</th>\n",
       "    </tr>\n",
       "  </thead>\n",
       "  <tbody>\n",
       "    <tr>\n",
       "      <th>0</th>\n",
       "      <td>300</td>\n",
       "      <td>2015-01-30</td>\n",
       "      <td>-0.028105</td>\n",
       "    </tr>\n",
       "    <tr>\n",
       "      <th>1</th>\n",
       "      <td>300</td>\n",
       "      <td>2015-02-27</td>\n",
       "      <td>0.040314</td>\n",
       "    </tr>\n",
       "    <tr>\n",
       "      <th>2</th>\n",
       "      <td>300</td>\n",
       "      <td>2015-03-31</td>\n",
       "      <td>0.133888</td>\n",
       "    </tr>\n",
       "    <tr>\n",
       "      <th>3</th>\n",
       "      <td>300</td>\n",
       "      <td>2015-04-30</td>\n",
       "      <td>0.172463</td>\n",
       "    </tr>\n",
       "    <tr>\n",
       "      <th>4</th>\n",
       "      <td>300</td>\n",
       "      <td>2015-05-29</td>\n",
       "      <td>0.019146</td>\n",
       "    </tr>\n",
       "    <tr>\n",
       "      <th>...</th>\n",
       "      <td>...</td>\n",
       "      <td>...</td>\n",
       "      <td>...</td>\n",
       "    </tr>\n",
       "    <tr>\n",
       "      <th>163</th>\n",
       "      <td>399006</td>\n",
       "      <td>2021-08-31</td>\n",
       "      <td>-0.065713</td>\n",
       "    </tr>\n",
       "    <tr>\n",
       "      <th>164</th>\n",
       "      <td>399006</td>\n",
       "      <td>2021-09-30</td>\n",
       "      <td>0.009498</td>\n",
       "    </tr>\n",
       "    <tr>\n",
       "      <th>165</th>\n",
       "      <td>399006</td>\n",
       "      <td>2021-10-29</td>\n",
       "      <td>0.032675</td>\n",
       "    </tr>\n",
       "    <tr>\n",
       "      <th>166</th>\n",
       "      <td>399006</td>\n",
       "      <td>2021-11-30</td>\n",
       "      <td>0.043254</td>\n",
       "    </tr>\n",
       "    <tr>\n",
       "      <th>167</th>\n",
       "      <td>399006</td>\n",
       "      <td>2021-12-31</td>\n",
       "      <td>-0.049468</td>\n",
       "    </tr>\n",
       "  </tbody>\n",
       "</table>\n",
       "<p>168 rows × 3 columns</p>\n",
       "</div>"
      ],
      "text/plain": [
       "     Symbol   CloseDate       ret\n",
       "0       300  2015-01-30 -0.028105\n",
       "1       300  2015-02-27  0.040314\n",
       "2       300  2015-03-31  0.133888\n",
       "3       300  2015-04-30  0.172463\n",
       "4       300  2015-05-29  0.019146\n",
       "..      ...         ...       ...\n",
       "163  399006  2021-08-31 -0.065713\n",
       "164  399006  2021-09-30  0.009498\n",
       "165  399006  2021-10-29  0.032675\n",
       "166  399006  2021-11-30  0.043254\n",
       "167  399006  2021-12-31 -0.049468\n",
       "\n",
       "[168 rows x 3 columns]"
      ]
     },
     "execution_count": 2,
     "metadata": {},
     "output_type": "execute_result"
    }
   ],
   "source": [
    "df = pd.read_csv(r'D:\\Code Library\\FIN3080\\Assignment_3\\month data\\month.csv')\n",
    "df = df.rename(columns = {'ChangeRatio':'ret'})\n",
    "df"
   ]
  },
  {
   "cell_type": "code",
   "execution_count": 3,
   "id": "11bda05e",
   "metadata": {},
   "outputs": [
    {
     "data": {
      "text/html": [
       "<div>\n",
       "<style scoped>\n",
       "    .dataframe tbody tr th:only-of-type {\n",
       "        vertical-align: middle;\n",
       "    }\n",
       "\n",
       "    .dataframe tbody tr th {\n",
       "        vertical-align: top;\n",
       "    }\n",
       "\n",
       "    .dataframe thead th {\n",
       "        text-align: right;\n",
       "    }\n",
       "</style>\n",
       "<table border=\"1\" class=\"dataframe\">\n",
       "  <thead>\n",
       "    <tr style=\"text-align: right;\">\n",
       "      <th></th>\n",
       "      <th>Symbol</th>\n",
       "      <th>CloseDate</th>\n",
       "      <th>ret</th>\n",
       "    </tr>\n",
       "  </thead>\n",
       "  <tbody>\n",
       "    <tr>\n",
       "      <th>0</th>\n",
       "      <td>300</td>\n",
       "      <td>2015-01-30</td>\n",
       "      <td>-0.028105</td>\n",
       "    </tr>\n",
       "    <tr>\n",
       "      <th>1</th>\n",
       "      <td>300</td>\n",
       "      <td>2015-02-27</td>\n",
       "      <td>0.040314</td>\n",
       "    </tr>\n",
       "    <tr>\n",
       "      <th>2</th>\n",
       "      <td>300</td>\n",
       "      <td>2015-03-31</td>\n",
       "      <td>0.133888</td>\n",
       "    </tr>\n",
       "    <tr>\n",
       "      <th>3</th>\n",
       "      <td>300</td>\n",
       "      <td>2015-04-30</td>\n",
       "      <td>0.172463</td>\n",
       "    </tr>\n",
       "    <tr>\n",
       "      <th>4</th>\n",
       "      <td>300</td>\n",
       "      <td>2015-05-29</td>\n",
       "      <td>0.019146</td>\n",
       "    </tr>\n",
       "    <tr>\n",
       "      <th>...</th>\n",
       "      <td>...</td>\n",
       "      <td>...</td>\n",
       "      <td>...</td>\n",
       "    </tr>\n",
       "    <tr>\n",
       "      <th>79</th>\n",
       "      <td>300</td>\n",
       "      <td>2021-08-31</td>\n",
       "      <td>-0.001156</td>\n",
       "    </tr>\n",
       "    <tr>\n",
       "      <th>80</th>\n",
       "      <td>300</td>\n",
       "      <td>2021-09-30</td>\n",
       "      <td>0.012646</td>\n",
       "    </tr>\n",
       "    <tr>\n",
       "      <th>81</th>\n",
       "      <td>300</td>\n",
       "      <td>2021-10-29</td>\n",
       "      <td>0.008710</td>\n",
       "    </tr>\n",
       "    <tr>\n",
       "      <th>82</th>\n",
       "      <td>300</td>\n",
       "      <td>2021-11-30</td>\n",
       "      <td>-0.015634</td>\n",
       "    </tr>\n",
       "    <tr>\n",
       "      <th>83</th>\n",
       "      <td>300</td>\n",
       "      <td>2021-12-31</td>\n",
       "      <td>0.022423</td>\n",
       "    </tr>\n",
       "  </tbody>\n",
       "</table>\n",
       "<p>84 rows × 3 columns</p>\n",
       "</div>"
      ],
      "text/plain": [
       "    Symbol   CloseDate       ret\n",
       "0      300  2015-01-30 -0.028105\n",
       "1      300  2015-02-27  0.040314\n",
       "2      300  2015-03-31  0.133888\n",
       "3      300  2015-04-30  0.172463\n",
       "4      300  2015-05-29  0.019146\n",
       "..     ...         ...       ...\n",
       "79     300  2021-08-31 -0.001156\n",
       "80     300  2021-09-30  0.012646\n",
       "81     300  2021-10-29  0.008710\n",
       "82     300  2021-11-30 -0.015634\n",
       "83     300  2021-12-31  0.022423\n",
       "\n",
       "[84 rows x 3 columns]"
      ]
     },
     "execution_count": 3,
     "metadata": {},
     "output_type": "execute_result"
    }
   ],
   "source": [
    "df1 = df[df.Symbol == 300].reset_index(drop = True)\n",
    "df1"
   ]
  },
  {
   "cell_type": "code",
   "execution_count": 4,
   "id": "75f16c8f",
   "metadata": {},
   "outputs": [
    {
     "data": {
      "text/html": [
       "<div>\n",
       "<style scoped>\n",
       "    .dataframe tbody tr th:only-of-type {\n",
       "        vertical-align: middle;\n",
       "    }\n",
       "\n",
       "    .dataframe tbody tr th {\n",
       "        vertical-align: top;\n",
       "    }\n",
       "\n",
       "    .dataframe thead th {\n",
       "        text-align: right;\n",
       "    }\n",
       "</style>\n",
       "<table border=\"1\" class=\"dataframe\">\n",
       "  <thead>\n",
       "    <tr style=\"text-align: right;\">\n",
       "      <th></th>\n",
       "      <th>Symbol</th>\n",
       "      <th>CloseDate</th>\n",
       "      <th>ret</th>\n",
       "    </tr>\n",
       "  </thead>\n",
       "  <tbody>\n",
       "    <tr>\n",
       "      <th>0</th>\n",
       "      <td>399006</td>\n",
       "      <td>2015-01-30</td>\n",
       "      <td>0.141881</td>\n",
       "    </tr>\n",
       "    <tr>\n",
       "      <th>1</th>\n",
       "      <td>399006</td>\n",
       "      <td>2015-02-27</td>\n",
       "      <td>0.147249</td>\n",
       "    </tr>\n",
       "    <tr>\n",
       "      <th>2</th>\n",
       "      <td>399006</td>\n",
       "      <td>2015-03-31</td>\n",
       "      <td>0.211161</td>\n",
       "    </tr>\n",
       "    <tr>\n",
       "      <th>3</th>\n",
       "      <td>399006</td>\n",
       "      <td>2015-04-30</td>\n",
       "      <td>0.223846</td>\n",
       "    </tr>\n",
       "    <tr>\n",
       "      <th>4</th>\n",
       "      <td>399006</td>\n",
       "      <td>2015-05-29</td>\n",
       "      <td>0.239671</td>\n",
       "    </tr>\n",
       "    <tr>\n",
       "      <th>...</th>\n",
       "      <td>...</td>\n",
       "      <td>...</td>\n",
       "      <td>...</td>\n",
       "    </tr>\n",
       "    <tr>\n",
       "      <th>79</th>\n",
       "      <td>399006</td>\n",
       "      <td>2021-08-31</td>\n",
       "      <td>-0.065713</td>\n",
       "    </tr>\n",
       "    <tr>\n",
       "      <th>80</th>\n",
       "      <td>399006</td>\n",
       "      <td>2021-09-30</td>\n",
       "      <td>0.009498</td>\n",
       "    </tr>\n",
       "    <tr>\n",
       "      <th>81</th>\n",
       "      <td>399006</td>\n",
       "      <td>2021-10-29</td>\n",
       "      <td>0.032675</td>\n",
       "    </tr>\n",
       "    <tr>\n",
       "      <th>82</th>\n",
       "      <td>399006</td>\n",
       "      <td>2021-11-30</td>\n",
       "      <td>0.043254</td>\n",
       "    </tr>\n",
       "    <tr>\n",
       "      <th>83</th>\n",
       "      <td>399006</td>\n",
       "      <td>2021-12-31</td>\n",
       "      <td>-0.049468</td>\n",
       "    </tr>\n",
       "  </tbody>\n",
       "</table>\n",
       "<p>84 rows × 3 columns</p>\n",
       "</div>"
      ],
      "text/plain": [
       "    Symbol   CloseDate       ret\n",
       "0   399006  2015-01-30  0.141881\n",
       "1   399006  2015-02-27  0.147249\n",
       "2   399006  2015-03-31  0.211161\n",
       "3   399006  2015-04-30  0.223846\n",
       "4   399006  2015-05-29  0.239671\n",
       "..     ...         ...       ...\n",
       "79  399006  2021-08-31 -0.065713\n",
       "80  399006  2021-09-30  0.009498\n",
       "81  399006  2021-10-29  0.032675\n",
       "82  399006  2021-11-30  0.043254\n",
       "83  399006  2021-12-31 -0.049468\n",
       "\n",
       "[84 rows x 3 columns]"
      ]
     },
     "execution_count": 4,
     "metadata": {},
     "output_type": "execute_result"
    }
   ],
   "source": [
    "df2 = df[df.Symbol == 399006].reset_index(drop = True)\n",
    "df2"
   ]
  },
  {
   "cell_type": "code",
   "execution_count": 5,
   "id": "ab48dc0d",
   "metadata": {},
   "outputs": [
    {
     "name": "stdout",
     "output_type": "stream",
     "text": [
      "0.005835583333333334\n",
      "0.060609617342784416\n"
     ]
    }
   ],
   "source": [
    "mu1 = df1.ret.mean()\n",
    "sigma1 = df1.ret.std()\n",
    "print(mu1)\n",
    "print(sigma1)"
   ]
  },
  {
   "cell_type": "code",
   "execution_count": 6,
   "id": "11be53fe",
   "metadata": {},
   "outputs": [
    {
     "data": {
      "image/png": "[encoded data removed]",
      "text/plain": [
       "<Figure size 432x288 with 1 Axes>"
      ]
     },
     "metadata": {
      "needs_background": "light"
     },
     "output_type": "display_data"
    }
   ],
   "source": [
    "df1.ret.plot.density(color = 'dodgerblue', label = 'CSI 300 Index')\n",
    "x = np.linspace(-0.4, 0.4, 100)\n",
    "plt.plot(x, stats.norm.pdf(x, mu1, sigma1), linestyle = '--',color = 'darkorange', label = 'Normal')\n",
    "plt.title('Density distribution of return of CSI 300 Index(Monthly)')\n",
    "plt.legend()\n",
    "plt.grid(axis = 'y')\n",
    "plt.show()"
   ]
  },
  {
   "cell_type": "code",
   "execution_count": 7,
   "id": "1f484074",
   "metadata": {},
   "outputs": [
    {
     "data": {
      "text/plain": [
       "0.02072711410380474"
      ]
     },
     "execution_count": 7,
     "metadata": {},
     "output_type": "execute_result"
    }
   ],
   "source": [
    "norm_stats1, p1 = stats.normaltest(df1.ret)\n",
    "p1"
   ]
  },
  {
   "cell_type": "code",
   "execution_count": 8,
   "id": "3a955f44",
   "metadata": {},
   "outputs": [
    {
     "data": {
      "text/plain": [
       "KstestResult(statistic=0.08970007633094401, pvalue=0.4811654139355186)"
      ]
     },
     "execution_count": 8,
     "metadata": {},
     "output_type": "execute_result"
    }
   ],
   "source": [
    "ks_stats1 = stats.kstest(df1.ret, 'norm', (mu1, sigma1))\n",
    "ks_stats1"
   ]
  },
  {
   "cell_type": "code",
   "execution_count": 9,
   "id": "7af4ef19",
   "metadata": {},
   "outputs": [
    {
     "name": "stdout",
     "output_type": "stream",
     "text": [
      "0.014077714285714284\n",
      "0.09416406359084913\n"
     ]
    }
   ],
   "source": [
    "mu2 = df2.ret.mean()\n",
    "sigma2 = df2.ret.std()\n",
    "print(mu2)\n",
    "print(sigma2)"
   ]
  },
  {
   "cell_type": "code",
   "execution_count": 10,
   "id": "2b248a16",
   "metadata": {},
   "outputs": [
    {
     "data": {
      "image/png": "[encoded data removed]",
      "text/plain": [
       "<Figure size 432x288 with 1 Axes>"
      ]
     },
     "metadata": {
      "needs_background": "light"
     },
     "output_type": "display_data"
    }
   ],
   "source": [
    "df2.ret.plot.density(color = 'dodgerblue', label = 'GEI Index')\n",
    "x = np.linspace(-0.4, 0.4, 100)\n",
    "plt.plot(x, stats.norm.pdf(x, mu2, sigma2), linestyle = '--',color = 'darkorange', label = 'Normal')\n",
    "plt.title('Density distribution of return of GEI Index(Monthly)')\n",
    "plt.legend()\n",
    "plt.grid(axis = 'y')\n",
    "plt.show()"
   ]
  },
  {
   "cell_type": "code",
   "execution_count": 11,
   "id": "a9175f21",
   "metadata": {},
   "outputs": [
    {
     "data": {
      "text/plain": [
       "0.18347646483828906"
      ]
     },
     "execution_count": 11,
     "metadata": {},
     "output_type": "execute_result"
    }
   ],
   "source": [
    "norm_stats2, p2 = stats.normaltest(df2.ret)\n",
    "p2"
   ]
  },
  {
   "cell_type": "code",
   "execution_count": 12,
   "id": "bc918ff7",
   "metadata": {},
   "outputs": [
    {
     "data": {
      "text/plain": [
       "KstestResult(statistic=0.10452980432854908, pvalue=0.29669044623544827)"
      ]
     },
     "execution_count": 12,
     "metadata": {},
     "output_type": "execute_result"
    }
   ],
   "source": [
    "ks_stats2 = stats.kstest(df2.ret, 'norm', (mu2, sigma2))\n",
    "ks_stats2"
   ]
  }
 ],
 "metadata": {
  "kernelspec": {
   "display_name": "Python 3",
   "language": "python",
   "name": "python3"
  },
  "language_info": {
   "codemirror_mode": {
    "name": "ipython",
    "version": 3
   },
   "file_extension": ".py",
   "mimetype": "text/x-python",
   "name": "python",
   "nbconvert_exporter": "python",
   "pygments_lexer": "ipython3",
   "version": "3.8.8"
  }
 },
 "nbformat": 4,
 "nbformat_minor": 5
}
