{
 "cells": [
  {
   "cell_type": "code",
   "execution_count": 1,
   "id": "11c5d1ca",
   "metadata": {},
   "outputs": [],
   "source": [
    "import pandas as pd\n",
    "import numpy as np\n",
    "import matplotlib.pyplot as plt\n",
    "from scipy import stats"
   ]
  },
  {
   "cell_type": "code",
   "execution_count": 2,
   "id": "1fd2f4d9",
   "metadata": {},
   "outputs": [
    {
     "data": {
      "text/html": [
       "<div>\n",
       "<style scoped>\n",
       "    .dataframe tbody tr th:only-of-type {\n",
       "        vertical-align: middle;\n",
       "    }\n",
       "\n",
       "    .dataframe tbody tr th {\n",
       "        vertical-align: top;\n",
       "    }\n",
       "\n",
       "    .dataframe thead th {\n",
       "        text-align: right;\n",
       "    }\n",
       "</style>\n",
       "<table border=\"1\" class=\"dataframe\">\n",
       "  <thead>\n",
       "    <tr style=\"text-align: right;\">\n",
       "      <th></th>\n",
       "      <th>Symbol</th>\n",
       "      <th>CloseDate</th>\n",
       "      <th>ret</th>\n",
       "    </tr>\n",
       "  </thead>\n",
       "  <tbody>\n",
       "    <tr>\n",
       "      <th>0</th>\n",
       "      <td>300</td>\n",
       "      <td>2015-01-02</td>\n",
       "      <td>0.025499</td>\n",
       "    </tr>\n",
       "    <tr>\n",
       "      <th>1</th>\n",
       "      <td>300</td>\n",
       "      <td>2015-01-09</td>\n",
       "      <td>0.003684</td>\n",
       "    </tr>\n",
       "    <tr>\n",
       "      <th>2</th>\n",
       "      <td>300</td>\n",
       "      <td>2015-01-16</td>\n",
       "      <td>0.024931</td>\n",
       "    </tr>\n",
       "    <tr>\n",
       "      <th>3</th>\n",
       "      <td>300</td>\n",
       "      <td>2015-01-23</td>\n",
       "      <td>-0.017445</td>\n",
       "    </tr>\n",
       "    <tr>\n",
       "      <th>4</th>\n",
       "      <td>300</td>\n",
       "      <td>2015-01-30</td>\n",
       "      <td>-0.038452</td>\n",
       "    </tr>\n",
       "    <tr>\n",
       "      <th>...</th>\n",
       "      <td>...</td>\n",
       "      <td>...</td>\n",
       "      <td>...</td>\n",
       "    </tr>\n",
       "    <tr>\n",
       "      <th>727</th>\n",
       "      <td>399006</td>\n",
       "      <td>2021-12-03</td>\n",
       "      <td>0.002825</td>\n",
       "    </tr>\n",
       "    <tr>\n",
       "      <th>728</th>\n",
       "      <td>399006</td>\n",
       "      <td>2021-12-10</td>\n",
       "      <td>-0.003412</td>\n",
       "    </tr>\n",
       "    <tr>\n",
       "      <th>729</th>\n",
       "      <td>399006</td>\n",
       "      <td>2021-12-17</td>\n",
       "      <td>-0.009363</td>\n",
       "    </tr>\n",
       "    <tr>\n",
       "      <th>730</th>\n",
       "      <td>399006</td>\n",
       "      <td>2021-12-24</td>\n",
       "      <td>-0.039959</td>\n",
       "    </tr>\n",
       "    <tr>\n",
       "      <th>731</th>\n",
       "      <td>399006</td>\n",
       "      <td>2021-12-31</td>\n",
       "      <td>0.007754</td>\n",
       "    </tr>\n",
       "  </tbody>\n",
       "</table>\n",
       "<p>732 rows × 3 columns</p>\n",
       "</div>"
      ],
      "text/plain": [
       "     Symbol   CloseDate       ret\n",
       "0       300  2015-01-02  0.025499\n",
       "1       300  2015-01-09  0.003684\n",
       "2       300  2015-01-16  0.024931\n",
       "3       300  2015-01-23 -0.017445\n",
       "4       300  2015-01-30 -0.038452\n",
       "..      ...         ...       ...\n",
       "727  399006  2021-12-03  0.002825\n",
       "728  399006  2021-12-10 -0.003412\n",
       "729  399006  2021-12-17 -0.009363\n",
       "730  399006  2021-12-24 -0.039959\n",
       "731  399006  2021-12-31  0.007754\n",
       "\n",
       "[732 rows x 3 columns]"
      ]
     },
     "execution_count": 2,
     "metadata": {},
     "output_type": "execute_result"
    }
   ],
   "source": [
    "df = pd.read_csv(r'D:\\Code Library\\FIN3080\\Assignment_3\\week data\\week.csv')\n",
    "df = df.rename(columns = {'ChangeRatio':'ret'})\n",
    "df"
   ]
  },
  {
   "cell_type": "code",
   "execution_count": 3,
   "id": "c18f5741",
   "metadata": {},
   "outputs": [
    {
     "data": {
      "text/html": [
       "<div>\n",
       "<style scoped>\n",
       "    .dataframe tbody tr th:only-of-type {\n",
       "        vertical-align: middle;\n",
       "    }\n",
       "\n",
       "    .dataframe tbody tr th {\n",
       "        vertical-align: top;\n",
       "    }\n",
       "\n",
       "    .dataframe thead th {\n",
       "        text-align: right;\n",
       "    }\n",
       "</style>\n",
       "<table border=\"1\" class=\"dataframe\">\n",
       "  <thead>\n",
       "    <tr style=\"text-align: right;\">\n",
       "      <th></th>\n",
       "      <th>Symbol</th>\n",
       "      <th>CloseDate</th>\n",
       "      <th>ret</th>\n",
       "    </tr>\n",
       "  </thead>\n",
       "  <tbody>\n",
       "    <tr>\n",
       "      <th>0</th>\n",
       "      <td>300</td>\n",
       "      <td>2015-01-02</td>\n",
       "      <td>0.025499</td>\n",
       "    </tr>\n",
       "    <tr>\n",
       "      <th>1</th>\n",
       "      <td>300</td>\n",
       "      <td>2015-01-09</td>\n",
       "      <td>0.003684</td>\n",
       "    </tr>\n",
       "    <tr>\n",
       "      <th>2</th>\n",
       "      <td>300</td>\n",
       "      <td>2015-01-16</td>\n",
       "      <td>0.024931</td>\n",
       "    </tr>\n",
       "    <tr>\n",
       "      <th>3</th>\n",
       "      <td>300</td>\n",
       "      <td>2015-01-23</td>\n",
       "      <td>-0.017445</td>\n",
       "    </tr>\n",
       "    <tr>\n",
       "      <th>4</th>\n",
       "      <td>300</td>\n",
       "      <td>2015-01-30</td>\n",
       "      <td>-0.038452</td>\n",
       "    </tr>\n",
       "    <tr>\n",
       "      <th>...</th>\n",
       "      <td>...</td>\n",
       "      <td>...</td>\n",
       "      <td>...</td>\n",
       "    </tr>\n",
       "    <tr>\n",
       "      <th>361</th>\n",
       "      <td>300</td>\n",
       "      <td>2021-12-03</td>\n",
       "      <td>0.008414</td>\n",
       "    </tr>\n",
       "    <tr>\n",
       "      <th>362</th>\n",
       "      <td>300</td>\n",
       "      <td>2021-12-10</td>\n",
       "      <td>0.031442</td>\n",
       "    </tr>\n",
       "    <tr>\n",
       "      <th>363</th>\n",
       "      <td>300</td>\n",
       "      <td>2021-12-17</td>\n",
       "      <td>-0.019853</td>\n",
       "    </tr>\n",
       "    <tr>\n",
       "      <th>364</th>\n",
       "      <td>300</td>\n",
       "      <td>2021-12-24</td>\n",
       "      <td>-0.006744</td>\n",
       "    </tr>\n",
       "    <tr>\n",
       "      <th>365</th>\n",
       "      <td>300</td>\n",
       "      <td>2021-12-31</td>\n",
       "      <td>0.003866</td>\n",
       "    </tr>\n",
       "  </tbody>\n",
       "</table>\n",
       "<p>366 rows × 3 columns</p>\n",
       "</div>"
      ],
      "text/plain": [
       "     Symbol   CloseDate       ret\n",
       "0       300  2015-01-02  0.025499\n",
       "1       300  2015-01-09  0.003684\n",
       "2       300  2015-01-16  0.024931\n",
       "3       300  2015-01-23 -0.017445\n",
       "4       300  2015-01-30 -0.038452\n",
       "..      ...         ...       ...\n",
       "361     300  2021-12-03  0.008414\n",
       "362     300  2021-12-10  0.031442\n",
       "363     300  2021-12-17 -0.019853\n",
       "364     300  2021-12-24 -0.006744\n",
       "365     300  2021-12-31  0.003866\n",
       "\n",
       "[366 rows x 3 columns]"
      ]
     },
     "execution_count": 3,
     "metadata": {},
     "output_type": "execute_result"
    }
   ],
   "source": [
    "df1 = df[df.Symbol == 300].reset_index(drop = True)\n",
    "df1"
   ]
  },
  {
   "cell_type": "code",
   "execution_count": 4,
   "id": "669a93d4",
   "metadata": {},
   "outputs": [
    {
     "data": {
      "text/html": [
       "<div>\n",
       "<style scoped>\n",
       "    .dataframe tbody tr th:only-of-type {\n",
       "        vertical-align: middle;\n",
       "    }\n",
       "\n",
       "    .dataframe tbody tr th {\n",
       "        vertical-align: top;\n",
       "    }\n",
       "\n",
       "    .dataframe thead th {\n",
       "        text-align: right;\n",
       "    }\n",
       "</style>\n",
       "<table border=\"1\" class=\"dataframe\">\n",
       "  <thead>\n",
       "    <tr style=\"text-align: right;\">\n",
       "      <th></th>\n",
       "      <th>Symbol</th>\n",
       "      <th>CloseDate</th>\n",
       "      <th>ret</th>\n",
       "    </tr>\n",
       "  </thead>\n",
       "  <tbody>\n",
       "    <tr>\n",
       "      <th>0</th>\n",
       "      <td>399006</td>\n",
       "      <td>2015-01-02</td>\n",
       "      <td>-0.041871</td>\n",
       "    </tr>\n",
       "    <tr>\n",
       "      <th>1</th>\n",
       "      <td>399006</td>\n",
       "      <td>2015-01-09</td>\n",
       "      <td>0.055359</td>\n",
       "    </tr>\n",
       "    <tr>\n",
       "      <th>2</th>\n",
       "      <td>399006</td>\n",
       "      <td>2015-01-16</td>\n",
       "      <td>0.055572</td>\n",
       "    </tr>\n",
       "    <tr>\n",
       "      <th>3</th>\n",
       "      <td>399006</td>\n",
       "      <td>2015-01-23</td>\n",
       "      <td>0.035213</td>\n",
       "    </tr>\n",
       "    <tr>\n",
       "      <th>4</th>\n",
       "      <td>399006</td>\n",
       "      <td>2015-01-30</td>\n",
       "      <td>-0.009844</td>\n",
       "    </tr>\n",
       "    <tr>\n",
       "      <th>...</th>\n",
       "      <td>...</td>\n",
       "      <td>...</td>\n",
       "      <td>...</td>\n",
       "    </tr>\n",
       "    <tr>\n",
       "      <th>361</th>\n",
       "      <td>399006</td>\n",
       "      <td>2021-12-03</td>\n",
       "      <td>0.002825</td>\n",
       "    </tr>\n",
       "    <tr>\n",
       "      <th>362</th>\n",
       "      <td>399006</td>\n",
       "      <td>2021-12-10</td>\n",
       "      <td>-0.003412</td>\n",
       "    </tr>\n",
       "    <tr>\n",
       "      <th>363</th>\n",
       "      <td>399006</td>\n",
       "      <td>2021-12-17</td>\n",
       "      <td>-0.009363</td>\n",
       "    </tr>\n",
       "    <tr>\n",
       "      <th>364</th>\n",
       "      <td>399006</td>\n",
       "      <td>2021-12-24</td>\n",
       "      <td>-0.039959</td>\n",
       "    </tr>\n",
       "    <tr>\n",
       "      <th>365</th>\n",
       "      <td>399006</td>\n",
       "      <td>2021-12-31</td>\n",
       "      <td>0.007754</td>\n",
       "    </tr>\n",
       "  </tbody>\n",
       "</table>\n",
       "<p>366 rows × 3 columns</p>\n",
       "</div>"
      ],
      "text/plain": [
       "     Symbol   CloseDate       ret\n",
       "0    399006  2015-01-02 -0.041871\n",
       "1    399006  2015-01-09  0.055359\n",
       "2    399006  2015-01-16  0.055572\n",
       "3    399006  2015-01-23  0.035213\n",
       "4    399006  2015-01-30 -0.009844\n",
       "..      ...         ...       ...\n",
       "361  399006  2021-12-03  0.002825\n",
       "362  399006  2021-12-10 -0.003412\n",
       "363  399006  2021-12-17 -0.009363\n",
       "364  399006  2021-12-24 -0.039959\n",
       "365  399006  2021-12-31  0.007754\n",
       "\n",
       "[366 rows x 3 columns]"
      ]
     },
     "execution_count": 4,
     "metadata": {},
     "output_type": "execute_result"
    }
   ],
   "source": [
    "df2 = df[df.Symbol == 399006].reset_index(drop = True)\n",
    "df2"
   ]
  },
  {
   "cell_type": "code",
   "execution_count": 5,
   "id": "2ee1a8d0",
   "metadata": {},
   "outputs": [
    {
     "name": "stdout",
     "output_type": "stream",
     "text": [
      "0.0014427158469945353\n",
      "0.030070062176521313\n"
     ]
    }
   ],
   "source": [
    "mu1 = df1.ret.mean()\n",
    "sigma1 = df1.ret.std()\n",
    "print(mu1)\n",
    "print(sigma1)"
   ]
  },
  {
   "cell_type": "code",
   "execution_count": 6,
   "id": "eb011b33",
   "metadata": {},
   "outputs": [
    {
     "data": {
      "image/png": "[encoded data removed]",
      "text/plain": [
       "<Figure size 432x288 with 1 Axes>"
      ]
     },
     "metadata": {
      "needs_background": "light"
     },
     "output_type": "display_data"
    }
   ],
   "source": [
    "df1.ret.plot.density(color = 'dodgerblue', label = 'CSI 300 Index')\n",
    "x = np.linspace(-0.2, 0.2, 100)\n",
    "plt.plot(x, stats.norm.pdf(x, mu1, sigma1), linestyle = '--',color = 'darkorange', label = 'Normal')\n",
    "plt.title('Density distribution of return of CSI 300 Index(Weekly)')\n",
    "plt.legend()\n",
    "plt.grid(axis = 'y')\n",
    "plt.show()"
   ]
  },
  {
   "cell_type": "code",
   "execution_count": 7,
   "id": "55b0be7f",
   "metadata": {},
   "outputs": [
    {
     "data": {
      "text/plain": [
       "6.600311324575144e-12"
      ]
     },
     "execution_count": 7,
     "metadata": {},
     "output_type": "execute_result"
    }
   ],
   "source": [
    "norm_stats1, p1 = stats.normaltest(df1.ret)\n",
    "p1"
   ]
  },
  {
   "cell_type": "code",
   "execution_count": 8,
   "id": "3dfa6e75",
   "metadata": {},
   "outputs": [
    {
     "data": {
      "text/plain": [
       "KstestResult(statistic=0.08224876601041581, pvalue=0.013324971030822544)"
      ]
     },
     "execution_count": 8,
     "metadata": {},
     "output_type": "execute_result"
    }
   ],
   "source": [
    "ks_stats1 = stats.kstest(df1.ret, 'norm', (mu1, sigma1))\n",
    "ks_stats1"
   ]
  },
  {
   "cell_type": "code",
   "execution_count": 9,
   "id": "a0afa7a4",
   "metadata": {},
   "outputs": [
    {
     "name": "stdout",
     "output_type": "stream",
     "text": [
      "0.0030022650273224052\n",
      "0.0420504181507166\n"
     ]
    }
   ],
   "source": [
    "mu2 = df2.ret.mean()\n",
    "sigma2 = df2.ret.std()\n",
    "print(mu2)\n",
    "print(sigma2)"
   ]
  },
  {
   "cell_type": "code",
   "execution_count": 10,
   "id": "5c92a4d8",
   "metadata": {},
   "outputs": [
    {
     "data": {
      "image/png": "[encoded data removed]",
      "text/plain": [
       "<Figure size 432x288 with 1 Axes>"
      ]
     },
     "metadata": {
      "needs_background": "light"
     },
     "output_type": "display_data"
    }
   ],
   "source": [
    "df2.ret.plot.density(color = 'dodgerblue', label = 'GEI Index')\n",
    "x = np.linspace(-0.3, 0.3, 100)\n",
    "plt.plot(x, stats.norm.pdf(x, mu2, sigma2), linestyle = '--',color = 'darkorange', label = 'Normal')\n",
    "plt.title('Density distribution of return of GEI Index(Weekly)')\n",
    "plt.legend()\n",
    "plt.grid(axis = 'y')\n",
    "plt.show()"
   ]
  },
  {
   "cell_type": "code",
   "execution_count": 11,
   "id": "9b514030",
   "metadata": {},
   "outputs": [
    {
     "data": {
      "text/plain": [
       "1.6215737427022633e-06"
      ]
     },
     "execution_count": 11,
     "metadata": {},
     "output_type": "execute_result"
    }
   ],
   "source": [
    "norm_stats2, p2 = stats.normaltest(df2.ret)\n",
    "p2"
   ]
  },
  {
   "cell_type": "code",
   "execution_count": 12,
   "id": "9673253e",
   "metadata": {},
   "outputs": [
    {
     "data": {
      "text/plain": [
       "KstestResult(statistic=0.07833747963109461, pvalue=0.02118036693209988)"
      ]
     },
     "execution_count": 12,
     "metadata": {},
     "output_type": "execute_result"
    }
   ],
   "source": [
    "ks_stats2 = stats.kstest(df2.ret, 'norm', (mu2, sigma2))\n",
    "ks_stats2"
   ]
  }
 ],
 "metadata": {
  "kernelspec": {
   "display_name": "Python 3",
   "language": "python",
   "name": "python3"
  },
  "language_info": {
   "codemirror_mode": {
    "name": "ipython",
    "version": 3
   },
   "file_extension": ".py",
   "mimetype": "text/x-python",
   "name": "python",
   "nbconvert_exporter": "python",
   "pygments_lexer": "ipython3",
   "version": "3.8.8"
  }
 },
 "nbformat": 4,
 "nbformat_minor": 5
}
