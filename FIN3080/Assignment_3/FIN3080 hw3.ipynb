{
 "cells": [
  {
   "cell_type": "code",
   "execution_count": 1,
   "id": "8e24ffdf",
   "metadata": {},
   "outputs": [],
   "source": [
    "import pandas as pd\n",
    "import numpy as np\n",
    "import statsmodels.api as sm\n",
    "import matplotlib.pyplot as plt\n",
    "from scipy.stats import gaussian_kde\n",
    "from scipy import stats"
   ]
  },
  {
   "cell_type": "code",
   "execution_count": 2,
   "id": "b345f9b7",
   "metadata": {},
   "outputs": [
    {
     "name": "stderr",
     "output_type": "stream",
     "text": [
      "C:\\Users\\arknight\\anaconda3\\lib\\site-packages\\openpyxl\\styles\\stylesheet.py:226: UserWarning: Workbook contains no default style, apply openpyxl's default\n",
      "  warn(\"Workbook contains no default style, apply openpyxl's default\")\n"
     ]
    }
   ],
   "source": [
    "df1_1 = pd.read_excel('CSI300_day_1.xlsx')\n",
    "df1_2 = pd.read_excel('CSI300_day_2.xlsx')"
   ]
  },
  {
   "cell_type": "code",
   "execution_count": 3,
   "id": "cc81ad02",
   "metadata": {},
   "outputs": [
    {
     "data": {
      "text/html": [
       "<div>\n",
       "<style scoped>\n",
       "    .dataframe tbody tr th:only-of-type {\n",
       "        vertical-align: middle;\n",
       "    }\n",
       "\n",
       "    .dataframe tbody tr th {\n",
       "        vertical-align: top;\n",
       "    }\n",
       "\n",
       "    .dataframe thead th {\n",
       "        text-align: right;\n",
       "    }\n",
       "</style>\n",
       "<table border=\"1\" class=\"dataframe\">\n",
       "  <thead>\n",
       "    <tr style=\"text-align: right;\">\n",
       "      <th></th>\n",
       "      <th>Idxtrd01</th>\n",
       "      <th>Idxtrd08</th>\n",
       "    </tr>\n",
       "  </thead>\n",
       "  <tbody>\n",
       "    <tr>\n",
       "      <th>0</th>\n",
       "      <td>2015-01-05</td>\n",
       "      <td>0.030516</td>\n",
       "    </tr>\n",
       "    <tr>\n",
       "      <th>1</th>\n",
       "      <td>2015-01-06</td>\n",
       "      <td>-0.000132</td>\n",
       "    </tr>\n",
       "    <tr>\n",
       "      <th>2</th>\n",
       "      <td>2015-01-07</td>\n",
       "      <td>0.00075</td>\n",
       "    </tr>\n",
       "    <tr>\n",
       "      <th>3</th>\n",
       "      <td>2015-01-08</td>\n",
       "      <td>-0.023199</td>\n",
       "    </tr>\n",
       "    <tr>\n",
       "      <th>4</th>\n",
       "      <td>2015-01-09</td>\n",
       "      <td>-0.003522</td>\n",
       "    </tr>\n",
       "  </tbody>\n",
       "</table>\n",
       "</div>"
      ],
      "text/plain": [
       "     Idxtrd01  Idxtrd08\n",
       "0  2015-01-05  0.030516\n",
       "1  2015-01-06 -0.000132\n",
       "2  2015-01-07   0.00075\n",
       "3  2015-01-08 -0.023199\n",
       "4  2015-01-09 -0.003522"
      ]
     },
     "execution_count": 3,
     "metadata": {},
     "output_type": "execute_result"
    }
   ],
   "source": [
    "df1 = pd.concat([df1_1,df1_2],axis=0,ignore_index=True)\n",
    "df1 = df1.drop((df1[df1.Indexcd.str[0]=='没']).index,axis=0)\n",
    "df1 = df1.drop((df1[df1.Indexcd.str[0]=='交']).index,axis=0)\n",
    "df1=df1.reset_index(drop=True)\n",
    "df1 = df1.drop(['Indexcd'],axis =1)\n",
    "df1['Idxtrd08'] = df1['Idxtrd08']/100\n",
    "df1.head()"
   ]
  },
  {
   "cell_type": "code",
   "execution_count": 4,
   "id": "45d657a6",
   "metadata": {},
   "outputs": [
    {
     "data": {
      "text/plain": [
       "Text(0.5, 1.0, 'CSI300 daily')"
      ]
     },
     "execution_count": 4,
     "metadata": {},
     "output_type": "execute_result"
    },
    {
     "data": {
      "image/png": "[encoded data removed]",
      "text/plain": [
       "<Figure size 432x288 with 1 Axes>"
      ]
     },
     "metadata": {
      "needs_background": "light"
     },
     "output_type": "display_data"
    }
   ],
   "source": [
    "df1.plot.kde()\n",
    "plt.title('CSI300 daily')"
   ]
  },
  {
   "cell_type": "code",
   "execution_count": 5,
   "id": "d8f5d879",
   "metadata": {},
   "outputs": [
    {
     "data": {
      "text/plain": [
       "KstestResult(statistic=0.09449781250299322, pvalue=1.0577141256422706e-13)"
      ]
     },
     "execution_count": 5,
     "metadata": {},
     "output_type": "execute_result"
    }
   ],
   "source": [
    "mean = df1.Idxtrd08.mean()\n",
    "std = df1.Idxtrd08.std()\n",
    "df1['Idxtrd08'] = df1['Idxtrd08'].astype('float')\n",
    "df1_ks = stats.kstest(df1['Idxtrd08'],'norm',(mean,std))\n",
    "df1_ks"
   ]
  },
  {
   "cell_type": "code",
   "execution_count": 6,
   "id": "1cdc4838",
   "metadata": {},
   "outputs": [
    {
     "data": {
      "text/plain": [
       "NormaltestResult(statistic=364.0772642543762, pvalue=8.742317479313932e-80)"
      ]
     },
     "execution_count": 6,
     "metadata": {},
     "output_type": "execute_result"
    }
   ],
   "source": [
    "df1_no = stats.normaltest(df1['Idxtrd08'])\n",
    "df1_no"
   ]
  },
  {
   "cell_type": "code",
   "execution_count": 7,
   "id": "e07bff32",
   "metadata": {},
   "outputs": [
    {
     "name": "stderr",
     "output_type": "stream",
     "text": [
      "C:\\Users\\arknight\\anaconda3\\lib\\site-packages\\openpyxl\\styles\\stylesheet.py:226: UserWarning: Workbook contains no default style, apply openpyxl's default\n",
      "  warn(\"Workbook contains no default style, apply openpyxl's default\")\n"
     ]
    }
   ],
   "source": [
    "df2_1 = pd.read_excel('GEI_day_1.xlsx')\n",
    "df2_2 = pd.read_excel('GEI_day_2.xlsx')"
   ]
  },
  {
   "cell_type": "code",
   "execution_count": 8,
   "id": "7a630097",
   "metadata": {
    "scrolled": true
   },
   "outputs": [
    {
     "data": {
      "text/html": [
       "<div>\n",
       "<style scoped>\n",
       "    .dataframe tbody tr th:only-of-type {\n",
       "        vertical-align: middle;\n",
       "    }\n",
       "\n",
       "    .dataframe tbody tr th {\n",
       "        vertical-align: top;\n",
       "    }\n",
       "\n",
       "    .dataframe thead th {\n",
       "        text-align: right;\n",
       "    }\n",
       "</style>\n",
       "<table border=\"1\" class=\"dataframe\">\n",
       "  <thead>\n",
       "    <tr style=\"text-align: right;\">\n",
       "      <th></th>\n",
       "      <th>Idxtrd01</th>\n",
       "      <th>Idxtrd08</th>\n",
       "    </tr>\n",
       "  </thead>\n",
       "  <tbody>\n",
       "    <tr>\n",
       "      <th>0</th>\n",
       "      <td>2015-01-05</td>\n",
       "      <td>-0.004749</td>\n",
       "    </tr>\n",
       "    <tr>\n",
       "      <th>1</th>\n",
       "      <td>2015-01-06</td>\n",
       "      <td>0.051239</td>\n",
       "    </tr>\n",
       "    <tr>\n",
       "      <th>2</th>\n",
       "      <td>2015-01-07</td>\n",
       "      <td>-0.010677</td>\n",
       "    </tr>\n",
       "    <tr>\n",
       "      <th>3</th>\n",
       "      <td>2015-01-08</td>\n",
       "      <td>0.012144</td>\n",
       "    </tr>\n",
       "    <tr>\n",
       "      <th>4</th>\n",
       "      <td>2015-01-09</td>\n",
       "      <td>0.007362</td>\n",
       "    </tr>\n",
       "  </tbody>\n",
       "</table>\n",
       "</div>"
      ],
      "text/plain": [
       "     Idxtrd01  Idxtrd08\n",
       "0  2015-01-05 -0.004749\n",
       "1  2015-01-06  0.051239\n",
       "2  2015-01-07 -0.010677\n",
       "3  2015-01-08  0.012144\n",
       "4  2015-01-09  0.007362"
      ]
     },
     "execution_count": 8,
     "metadata": {},
     "output_type": "execute_result"
    }
   ],
   "source": [
    "df2 = pd.concat([df2_1,df2_2],axis=0,ignore_index=True)\n",
    "df2 = df2.drop((df2[df2.Indexcd.str[0]=='没']).index,axis=0)\n",
    "df2 = df2.drop((df2[df2.Indexcd.str[0]=='交']).index,axis=0)\n",
    "df2=df2.reset_index(drop=True)\n",
    "df2 = df2.drop(['Indexcd'],axis =1)\n",
    "df2['Idxtrd08'] = df2['Idxtrd08']/100\n",
    "df2.head()"
   ]
  },
  {
   "cell_type": "code",
   "execution_count": 9,
   "id": "b58bb455",
   "metadata": {},
   "outputs": [
    {
     "data": {
      "text/plain": [
       "Text(0.5, 1.0, 'GEI daily')"
      ]
     },
     "execution_count": 9,
     "metadata": {},
     "output_type": "execute_result"
    },
    {
     "data": {
      "image/png": "[encoded data removed]",
      "text/plain": [
       "<Figure size 432x288 with 1 Axes>"
      ]
     },
     "metadata": {
      "needs_background": "light"
     },
     "output_type": "display_data"
    }
   ],
   "source": [
    "df2.plot.kde()\n",
    "plt.title('GEI daily')"
   ]
  },
  {
   "cell_type": "code",
   "execution_count": 10,
   "id": "c916341a",
   "metadata": {},
   "outputs": [
    {
     "data": {
      "text/plain": [
       "KstestResult(statistic=0.08044533008400279, pvalue=4.800181760121311e-10)"
      ]
     },
     "execution_count": 10,
     "metadata": {},
     "output_type": "execute_result"
    }
   ],
   "source": [
    "mean = df2.Idxtrd08.mean()\n",
    "std = df2.Idxtrd08.std()\n",
    "df2['Idxtrd08'] = df2['Idxtrd08'].astype('float')\n",
    "df2_ks = stats.kstest(df2['Idxtrd08'],'norm',(mean,std))\n",
    "df2_ks"
   ]
  },
  {
   "cell_type": "code",
   "execution_count": 11,
   "id": "b2904a6b",
   "metadata": {},
   "outputs": [
    {
     "data": {
      "text/plain": [
       "NormaltestResult(statistic=145.28346728896884, pvalue=2.8320174324114613e-32)"
      ]
     },
     "execution_count": 11,
     "metadata": {},
     "output_type": "execute_result"
    }
   ],
   "source": [
    "df2_no = stats.normaltest(df2['Idxtrd08'])\n",
    "df2_no"
   ]
  },
  {
   "cell_type": "code",
   "execution_count": 12,
   "id": "1028dfde",
   "metadata": {},
   "outputs": [
    {
     "name": "stderr",
     "output_type": "stream",
     "text": [
      "C:\\Users\\arknight\\anaconda3\\lib\\site-packages\\openpyxl\\styles\\stylesheet.py:226: UserWarning: Workbook contains no default style, apply openpyxl's default\n",
      "  warn(\"Workbook contains no default style, apply openpyxl's default\")\n"
     ]
    }
   ],
   "source": [
    "df3_1 = pd.read_excel('CSI300_day_1.xlsx')\n",
    "df3_2 = pd.read_excel('CSI300_day_2.xlsx')"
   ]
  },
  {
   "cell_type": "code",
   "execution_count": 13,
   "id": "53648647",
   "metadata": {},
   "outputs": [
    {
     "data": {
      "text/html": [
       "<div>\n",
       "<style scoped>\n",
       "    .dataframe tbody tr th:only-of-type {\n",
       "        vertical-align: middle;\n",
       "    }\n",
       "\n",
       "    .dataframe tbody tr th {\n",
       "        vertical-align: top;\n",
       "    }\n",
       "\n",
       "    .dataframe thead th {\n",
       "        text-align: right;\n",
       "    }\n",
       "</style>\n",
       "<table border=\"1\" class=\"dataframe\">\n",
       "  <thead>\n",
       "    <tr style=\"text-align: right;\">\n",
       "      <th></th>\n",
       "      <th>Idxtrd01</th>\n",
       "      <th>Idxtrd08</th>\n",
       "    </tr>\n",
       "  </thead>\n",
       "  <tbody>\n",
       "    <tr>\n",
       "      <th>0</th>\n",
       "      <td>2015-01-05</td>\n",
       "      <td>3.0516</td>\n",
       "    </tr>\n",
       "    <tr>\n",
       "      <th>1</th>\n",
       "      <td>2015-01-06</td>\n",
       "      <td>-0.0132</td>\n",
       "    </tr>\n",
       "    <tr>\n",
       "      <th>2</th>\n",
       "      <td>2015-01-07</td>\n",
       "      <td>0.075</td>\n",
       "    </tr>\n",
       "    <tr>\n",
       "      <th>3</th>\n",
       "      <td>2015-01-08</td>\n",
       "      <td>-2.3199</td>\n",
       "    </tr>\n",
       "    <tr>\n",
       "      <th>4</th>\n",
       "      <td>2015-01-09</td>\n",
       "      <td>-0.3522</td>\n",
       "    </tr>\n",
       "  </tbody>\n",
       "</table>\n",
       "</div>"
      ],
      "text/plain": [
       "     Idxtrd01 Idxtrd08\n",
       "0  2015-01-05   3.0516\n",
       "1  2015-01-06  -0.0132\n",
       "2  2015-01-07    0.075\n",
       "3  2015-01-08  -2.3199\n",
       "4  2015-01-09  -0.3522"
      ]
     },
     "execution_count": 13,
     "metadata": {},
     "output_type": "execute_result"
    }
   ],
   "source": [
    "df3 = pd.concat([df3_1,df3_2],axis=0,ignore_index=True)\n",
    "df3 = df3.drop((df3[df3.Indexcd.str[0]=='没']).index,axis=0)\n",
    "df3 = df3.drop((df3[df3.Indexcd.str[0]=='交']).index,axis=0)\n",
    "df3 = df3.reset_index(drop=True)\n",
    "df3 = df3.drop(['Indexcd'],axis =1)\n",
    "df3.head()"
   ]
  },
  {
   "cell_type": "code",
   "execution_count": 14,
   "id": "32221a53",
   "metadata": {},
   "outputs": [
    {
     "data": {
      "text/html": [
       "<div>\n",
       "<style scoped>\n",
       "    .dataframe tbody tr th:only-of-type {\n",
       "        vertical-align: middle;\n",
       "    }\n",
       "\n",
       "    .dataframe tbody tr th {\n",
       "        vertical-align: top;\n",
       "    }\n",
       "\n",
       "    .dataframe thead th {\n",
       "        text-align: right;\n",
       "    }\n",
       "</style>\n",
       "<table border=\"1\" class=\"dataframe\">\n",
       "  <thead>\n",
       "    <tr style=\"text-align: right;\">\n",
       "      <th></th>\n",
       "      <th>Idxtrd01</th>\n",
       "      <th>Idxtrd08</th>\n",
       "      <th>month</th>\n",
       "    </tr>\n",
       "  </thead>\n",
       "  <tbody>\n",
       "    <tr>\n",
       "      <th>0</th>\n",
       "      <td>2015-01-05</td>\n",
       "      <td>0.030516</td>\n",
       "      <td>2015-01-05</td>\n",
       "    </tr>\n",
       "    <tr>\n",
       "      <th>1</th>\n",
       "      <td>2015-01-06</td>\n",
       "      <td>-0.000132</td>\n",
       "      <td>2015-01-06</td>\n",
       "    </tr>\n",
       "    <tr>\n",
       "      <th>2</th>\n",
       "      <td>2015-01-07</td>\n",
       "      <td>0.00075</td>\n",
       "      <td>2015-01-07</td>\n",
       "    </tr>\n",
       "    <tr>\n",
       "      <th>3</th>\n",
       "      <td>2015-01-08</td>\n",
       "      <td>-0.023199</td>\n",
       "      <td>2015-01-08</td>\n",
       "    </tr>\n",
       "    <tr>\n",
       "      <th>4</th>\n",
       "      <td>2015-01-09</td>\n",
       "      <td>-0.003522</td>\n",
       "      <td>2015-01-09</td>\n",
       "    </tr>\n",
       "    <tr>\n",
       "      <th>...</th>\n",
       "      <td>...</td>\n",
       "      <td>...</td>\n",
       "      <td>...</td>\n",
       "    </tr>\n",
       "    <tr>\n",
       "      <th>1700</th>\n",
       "      <td>2021-12-27</td>\n",
       "      <td>-0.000411</td>\n",
       "      <td>2021-12-27</td>\n",
       "    </tr>\n",
       "    <tr>\n",
       "      <th>1701</th>\n",
       "      <td>2021-12-28</td>\n",
       "      <td>0.007448</td>\n",
       "      <td>2021-12-28</td>\n",
       "    </tr>\n",
       "    <tr>\n",
       "      <th>1702</th>\n",
       "      <td>2021-12-29</td>\n",
       "      <td>-0.014626</td>\n",
       "      <td>2021-12-29</td>\n",
       "    </tr>\n",
       "    <tr>\n",
       "      <th>1703</th>\n",
       "      <td>2021-12-30</td>\n",
       "      <td>0.007788</td>\n",
       "      <td>2021-12-30</td>\n",
       "    </tr>\n",
       "    <tr>\n",
       "      <th>1704</th>\n",
       "      <td>2021-12-31</td>\n",
       "      <td>0.003833</td>\n",
       "      <td>2021-12-31</td>\n",
       "    </tr>\n",
       "  </tbody>\n",
       "</table>\n",
       "<p>1705 rows × 3 columns</p>\n",
       "</div>"
      ],
      "text/plain": [
       "        Idxtrd01  Idxtrd08      month\n",
       "0     2015-01-05  0.030516 2015-01-05\n",
       "1     2015-01-06 -0.000132 2015-01-06\n",
       "2     2015-01-07   0.00075 2015-01-07\n",
       "3     2015-01-08 -0.023199 2015-01-08\n",
       "4     2015-01-09 -0.003522 2015-01-09\n",
       "...          ...       ...        ...\n",
       "1700  2021-12-27 -0.000411 2021-12-27\n",
       "1701  2021-12-28  0.007448 2021-12-28\n",
       "1702  2021-12-29 -0.014626 2021-12-29\n",
       "1703  2021-12-30  0.007788 2021-12-30\n",
       "1704  2021-12-31  0.003833 2021-12-31\n",
       "\n",
       "[1705 rows x 3 columns]"
      ]
     },
     "execution_count": 14,
     "metadata": {},
     "output_type": "execute_result"
    }
   ],
   "source": [
    "df3['month'] =df3['Idxtrd01'].astype('datetime64[ns]')\n",
    "df3['Idxtrd08'] = df3['Idxtrd08']/100\n",
    "df3"
   ]
  },
  {
   "cell_type": "code",
   "execution_count": 15,
   "id": "1e88f9d5",
   "metadata": {},
   "outputs": [
    {
     "data": {
      "text/html": [
       "<div>\n",
       "<style scoped>\n",
       "    .dataframe tbody tr th:only-of-type {\n",
       "        vertical-align: middle;\n",
       "    }\n",
       "\n",
       "    .dataframe tbody tr th {\n",
       "        vertical-align: top;\n",
       "    }\n",
       "\n",
       "    .dataframe thead th {\n",
       "        text-align: right;\n",
       "    }\n",
       "</style>\n",
       "<table border=\"1\" class=\"dataframe\">\n",
       "  <thead>\n",
       "    <tr style=\"text-align: right;\">\n",
       "      <th></th>\n",
       "      <th>Idxtrd01</th>\n",
       "      <th>Idxtrd08</th>\n",
       "    </tr>\n",
       "  </thead>\n",
       "  <tbody>\n",
       "    <tr>\n",
       "      <th>2015-01-05</th>\n",
       "      <td>2015-01-05</td>\n",
       "      <td>0.030516</td>\n",
       "    </tr>\n",
       "    <tr>\n",
       "      <th>2015-01-06</th>\n",
       "      <td>2015-01-06</td>\n",
       "      <td>-0.000132</td>\n",
       "    </tr>\n",
       "    <tr>\n",
       "      <th>2015-01-07</th>\n",
       "      <td>2015-01-07</td>\n",
       "      <td>0.00075</td>\n",
       "    </tr>\n",
       "    <tr>\n",
       "      <th>2015-01-08</th>\n",
       "      <td>2015-01-08</td>\n",
       "      <td>-0.023199</td>\n",
       "    </tr>\n",
       "    <tr>\n",
       "      <th>2015-01-09</th>\n",
       "      <td>2015-01-09</td>\n",
       "      <td>-0.003522</td>\n",
       "    </tr>\n",
       "    <tr>\n",
       "      <th>...</th>\n",
       "      <td>...</td>\n",
       "      <td>...</td>\n",
       "    </tr>\n",
       "    <tr>\n",
       "      <th>2021-12-29</th>\n",
       "      <td>2021-12-29</td>\n",
       "      <td>-0.014626</td>\n",
       "    </tr>\n",
       "    <tr>\n",
       "      <th>2021-12-30</th>\n",
       "      <td>2021-12-30</td>\n",
       "      <td>0.007788</td>\n",
       "    </tr>\n",
       "    <tr>\n",
       "      <th>2021-12-31</th>\n",
       "      <td>2021-12-31</td>\n",
       "      <td>0.003833</td>\n",
       "    </tr>\n",
       "    <tr>\n",
       "      <th>2022-01-01</th>\n",
       "      <td>NaN</td>\n",
       "      <td>NaN</td>\n",
       "    </tr>\n",
       "    <tr>\n",
       "      <th>2022-01-02</th>\n",
       "      <td>NaN</td>\n",
       "      <td>NaN</td>\n",
       "    </tr>\n",
       "  </tbody>\n",
       "</table>\n",
       "<p>2555 rows × 2 columns</p>\n",
       "</div>"
      ],
      "text/plain": [
       "              Idxtrd01  Idxtrd08\n",
       "2015-01-05  2015-01-05  0.030516\n",
       "2015-01-06  2015-01-06 -0.000132\n",
       "2015-01-07  2015-01-07   0.00075\n",
       "2015-01-08  2015-01-08 -0.023199\n",
       "2015-01-09  2015-01-09 -0.003522\n",
       "...                ...       ...\n",
       "2021-12-29  2021-12-29 -0.014626\n",
       "2021-12-30  2021-12-30  0.007788\n",
       "2021-12-31  2021-12-31  0.003833\n",
       "2022-01-01         NaN       NaN\n",
       "2022-01-02         NaN       NaN\n",
       "\n",
       "[2555 rows x 2 columns]"
      ]
     },
     "execution_count": 15,
     "metadata": {},
     "output_type": "execute_result"
    }
   ],
   "source": [
    "date_range = pd.date_range(start = \"20150105 \", end = \"20220102\", freq='D')\n",
    "df3 = df3.set_index('month').reindex(index = date_range)\n",
    "df3"
   ]
  },
  {
   "cell_type": "code",
   "execution_count": 16,
   "id": "21e10dee",
   "metadata": {},
   "outputs": [
    {
     "data": {
      "text/html": [
       "<div>\n",
       "<style scoped>\n",
       "    .dataframe tbody tr th:only-of-type {\n",
       "        vertical-align: middle;\n",
       "    }\n",
       "\n",
       "    .dataframe tbody tr th {\n",
       "        vertical-align: top;\n",
       "    }\n",
       "\n",
       "    .dataframe thead th {\n",
       "        text-align: right;\n",
       "    }\n",
       "</style>\n",
       "<table border=\"1\" class=\"dataframe\">\n",
       "  <thead>\n",
       "    <tr style=\"text-align: right;\">\n",
       "      <th></th>\n",
       "      <th>Idxtrd</th>\n",
       "    </tr>\n",
       "  </thead>\n",
       "  <tbody>\n",
       "    <tr>\n",
       "      <th>2015-01-11</th>\n",
       "      <td>0.003684</td>\n",
       "    </tr>\n",
       "    <tr>\n",
       "      <th>2015-01-18</th>\n",
       "      <td>0.024930</td>\n",
       "    </tr>\n",
       "    <tr>\n",
       "      <th>2015-01-25</th>\n",
       "      <td>-0.017444</td>\n",
       "    </tr>\n",
       "    <tr>\n",
       "      <th>2015-02-01</th>\n",
       "      <td>-0.038452</td>\n",
       "    </tr>\n",
       "    <tr>\n",
       "      <th>2015-02-08</th>\n",
       "      <td>-0.035514</td>\n",
       "    </tr>\n",
       "    <tr>\n",
       "      <th>...</th>\n",
       "      <td>...</td>\n",
       "    </tr>\n",
       "    <tr>\n",
       "      <th>2021-12-05</th>\n",
       "      <td>0.008414</td>\n",
       "    </tr>\n",
       "    <tr>\n",
       "      <th>2021-12-12</th>\n",
       "      <td>0.031442</td>\n",
       "    </tr>\n",
       "    <tr>\n",
       "      <th>2021-12-19</th>\n",
       "      <td>-0.019853</td>\n",
       "    </tr>\n",
       "    <tr>\n",
       "      <th>2021-12-26</th>\n",
       "      <td>-0.006745</td>\n",
       "    </tr>\n",
       "    <tr>\n",
       "      <th>2022-01-02</th>\n",
       "      <td>0.003866</td>\n",
       "    </tr>\n",
       "  </tbody>\n",
       "</table>\n",
       "<p>365 rows × 1 columns</p>\n",
       "</div>"
      ],
      "text/plain": [
       "              Idxtrd\n",
       "2015-01-11  0.003684\n",
       "2015-01-18  0.024930\n",
       "2015-01-25 -0.017444\n",
       "2015-02-01 -0.038452\n",
       "2015-02-08 -0.035514\n",
       "...              ...\n",
       "2021-12-05  0.008414\n",
       "2021-12-12  0.031442\n",
       "2021-12-19 -0.019853\n",
       "2021-12-26 -0.006745\n",
       "2022-01-02  0.003866\n",
       "\n",
       "[365 rows x 1 columns]"
      ]
     },
     "execution_count": 16,
     "metadata": {},
     "output_type": "execute_result"
    }
   ],
   "source": [
    "df3 = df3.drop(['Idxtrd01'],axis = 1)\n",
    "df3 = df3.fillna(0)\n",
    "df3['Idxtrd08+1'] = df3['Idxtrd08']+1\n",
    "df3 = df3.drop(['Idxtrd08'],axis = 1)\n",
    "df3 = df3.resample('W').prod()\n",
    "df3['Idxtrd'] = df3['Idxtrd08+1'] - 1\n",
    "df3 = df3.drop(['Idxtrd08+1'],axis = 1)\n",
    "df3"
   ]
  },
  {
   "cell_type": "code",
   "execution_count": 17,
   "id": "c99a479f",
   "metadata": {},
   "outputs": [
    {
     "data": {
      "text/plain": [
       "Text(0.5, 1.0, 'CSI300 weekly')"
      ]
     },
     "execution_count": 17,
     "metadata": {},
     "output_type": "execute_result"
    },
    {
     "data": {
      "image/png": "[encoded data removed]",
      "text/plain": [
       "<Figure size 432x288 with 1 Axes>"
      ]
     },
     "metadata": {
      "needs_background": "light"
     },
     "output_type": "display_data"
    }
   ],
   "source": [
    "df3.plot.kde()\n",
    "plt.title('CSI300 weekly')"
   ]
  },
  {
   "cell_type": "code",
   "execution_count": 18,
   "id": "13510ec3",
   "metadata": {},
   "outputs": [
    {
     "data": {
      "text/plain": [
       "KstestResult(statistic=0.08242309360337113, pvalue=0.01322443716556142)"
      ]
     },
     "execution_count": 18,
     "metadata": {},
     "output_type": "execute_result"
    }
   ],
   "source": [
    "mean = df3.Idxtrd.mean()\n",
    "std = df3.Idxtrd.std()\n",
    "df3['Idxtrd'] = df3['Idxtrd'].astype('float')\n",
    "df3_ks = stats.kstest(df3['Idxtrd'],'norm',(mean,std))\n",
    "df3_ks"
   ]
  },
  {
   "cell_type": "code",
   "execution_count": 19,
   "id": "2d01122b",
   "metadata": {},
   "outputs": [
    {
     "data": {
      "text/plain": [
       "NormaltestResult(statistic=51.05686080796963, pvalue=8.187353534978156e-12)"
      ]
     },
     "execution_count": 19,
     "metadata": {},
     "output_type": "execute_result"
    }
   ],
   "source": [
    "df3_no = stats.normaltest(df3['Idxtrd'])\n",
    "df3_no"
   ]
  },
  {
   "cell_type": "code",
   "execution_count": 20,
   "id": "44586f83",
   "metadata": {},
   "outputs": [
    {
     "name": "stderr",
     "output_type": "stream",
     "text": [
      "C:\\Users\\arknight\\anaconda3\\lib\\site-packages\\openpyxl\\styles\\stylesheet.py:226: UserWarning: Workbook contains no default style, apply openpyxl's default\n",
      "  warn(\"Workbook contains no default style, apply openpyxl's default\")\n"
     ]
    }
   ],
   "source": [
    "df4_1 = pd.read_excel('GEI_day_1.xlsx')\n",
    "df4_2 = pd.read_excel('GEI_day_2.xlsx')"
   ]
  },
  {
   "cell_type": "code",
   "execution_count": 21,
   "id": "8bfad59b",
   "metadata": {},
   "outputs": [
    {
     "data": {
      "text/html": [
       "<div>\n",
       "<style scoped>\n",
       "    .dataframe tbody tr th:only-of-type {\n",
       "        vertical-align: middle;\n",
       "    }\n",
       "\n",
       "    .dataframe tbody tr th {\n",
       "        vertical-align: top;\n",
       "    }\n",
       "\n",
       "    .dataframe thead th {\n",
       "        text-align: right;\n",
       "    }\n",
       "</style>\n",
       "<table border=\"1\" class=\"dataframe\">\n",
       "  <thead>\n",
       "    <tr style=\"text-align: right;\">\n",
       "      <th></th>\n",
       "      <th>Idxtrd01</th>\n",
       "      <th>Idxtrd08</th>\n",
       "    </tr>\n",
       "  </thead>\n",
       "  <tbody>\n",
       "    <tr>\n",
       "      <th>0</th>\n",
       "      <td>2015-01-05</td>\n",
       "      <td>-0.4749</td>\n",
       "    </tr>\n",
       "    <tr>\n",
       "      <th>1</th>\n",
       "      <td>2015-01-06</td>\n",
       "      <td>5.1239</td>\n",
       "    </tr>\n",
       "    <tr>\n",
       "      <th>2</th>\n",
       "      <td>2015-01-07</td>\n",
       "      <td>-1.0677</td>\n",
       "    </tr>\n",
       "    <tr>\n",
       "      <th>3</th>\n",
       "      <td>2015-01-08</td>\n",
       "      <td>1.2144</td>\n",
       "    </tr>\n",
       "    <tr>\n",
       "      <th>4</th>\n",
       "      <td>2015-01-09</td>\n",
       "      <td>0.7362</td>\n",
       "    </tr>\n",
       "  </tbody>\n",
       "</table>\n",
       "</div>"
      ],
      "text/plain": [
       "     Idxtrd01 Idxtrd08\n",
       "0  2015-01-05  -0.4749\n",
       "1  2015-01-06   5.1239\n",
       "2  2015-01-07  -1.0677\n",
       "3  2015-01-08   1.2144\n",
       "4  2015-01-09   0.7362"
      ]
     },
     "execution_count": 21,
     "metadata": {},
     "output_type": "execute_result"
    }
   ],
   "source": [
    "df4 = pd.concat([df4_1,df4_2],axis=0,ignore_index=True)\n",
    "df4 = df4.drop((df4[df4.Indexcd.str[0]=='没']).index,axis=0)\n",
    "df4 = df4.drop((df4[df4.Indexcd.str[0]=='交']).index,axis=0)\n",
    "df4 = df4.reset_index(drop=True)\n",
    "df4 = df4.drop(['Indexcd'],axis =1)\n",
    "df4.head()"
   ]
  },
  {
   "cell_type": "code",
   "execution_count": 22,
   "id": "e03967a8",
   "metadata": {},
   "outputs": [
    {
     "data": {
      "text/html": [
       "<div>\n",
       "<style scoped>\n",
       "    .dataframe tbody tr th:only-of-type {\n",
       "        vertical-align: middle;\n",
       "    }\n",
       "\n",
       "    .dataframe tbody tr th {\n",
       "        vertical-align: top;\n",
       "    }\n",
       "\n",
       "    .dataframe thead th {\n",
       "        text-align: right;\n",
       "    }\n",
       "</style>\n",
       "<table border=\"1\" class=\"dataframe\">\n",
       "  <thead>\n",
       "    <tr style=\"text-align: right;\">\n",
       "      <th></th>\n",
       "      <th>Idxtrd01</th>\n",
       "      <th>Idxtrd08</th>\n",
       "      <th>month</th>\n",
       "    </tr>\n",
       "  </thead>\n",
       "  <tbody>\n",
       "    <tr>\n",
       "      <th>0</th>\n",
       "      <td>2015-01-05</td>\n",
       "      <td>-0.004749</td>\n",
       "      <td>2015-01-05</td>\n",
       "    </tr>\n",
       "    <tr>\n",
       "      <th>1</th>\n",
       "      <td>2015-01-06</td>\n",
       "      <td>0.051239</td>\n",
       "      <td>2015-01-06</td>\n",
       "    </tr>\n",
       "    <tr>\n",
       "      <th>2</th>\n",
       "      <td>2015-01-07</td>\n",
       "      <td>-0.010677</td>\n",
       "      <td>2015-01-07</td>\n",
       "    </tr>\n",
       "    <tr>\n",
       "      <th>3</th>\n",
       "      <td>2015-01-08</td>\n",
       "      <td>0.012144</td>\n",
       "      <td>2015-01-08</td>\n",
       "    </tr>\n",
       "    <tr>\n",
       "      <th>4</th>\n",
       "      <td>2015-01-09</td>\n",
       "      <td>0.007362</td>\n",
       "      <td>2015-01-09</td>\n",
       "    </tr>\n",
       "    <tr>\n",
       "      <th>...</th>\n",
       "      <td>...</td>\n",
       "      <td>...</td>\n",
       "      <td>...</td>\n",
       "    </tr>\n",
       "    <tr>\n",
       "      <th>1700</th>\n",
       "      <td>2021-12-27</td>\n",
       "      <td>-0.000999</td>\n",
       "      <td>2021-12-27</td>\n",
       "    </tr>\n",
       "    <tr>\n",
       "      <th>1701</th>\n",
       "      <td>2021-12-28</td>\n",
       "      <td>0.010549</td>\n",
       "      <td>2021-12-28</td>\n",
       "    </tr>\n",
       "    <tr>\n",
       "      <th>1702</th>\n",
       "      <td>2021-12-29</td>\n",
       "      <td>-0.014019</td>\n",
       "      <td>2021-12-29</td>\n",
       "    </tr>\n",
       "    <tr>\n",
       "      <th>1703</th>\n",
       "      <td>2021-12-30</td>\n",
       "      <td>0.012462</td>\n",
       "      <td>2021-12-30</td>\n",
       "    </tr>\n",
       "    <tr>\n",
       "      <th>1704</th>\n",
       "      <td>2021-12-31</td>\n",
       "      <td>-0.000037</td>\n",
       "      <td>2021-12-31</td>\n",
       "    </tr>\n",
       "  </tbody>\n",
       "</table>\n",
       "<p>1705 rows × 3 columns</p>\n",
       "</div>"
      ],
      "text/plain": [
       "        Idxtrd01  Idxtrd08      month\n",
       "0     2015-01-05 -0.004749 2015-01-05\n",
       "1     2015-01-06  0.051239 2015-01-06\n",
       "2     2015-01-07 -0.010677 2015-01-07\n",
       "3     2015-01-08  0.012144 2015-01-08\n",
       "4     2015-01-09  0.007362 2015-01-09\n",
       "...          ...       ...        ...\n",
       "1700  2021-12-27 -0.000999 2021-12-27\n",
       "1701  2021-12-28  0.010549 2021-12-28\n",
       "1702  2021-12-29 -0.014019 2021-12-29\n",
       "1703  2021-12-30  0.012462 2021-12-30\n",
       "1704  2021-12-31 -0.000037 2021-12-31\n",
       "\n",
       "[1705 rows x 3 columns]"
      ]
     },
     "execution_count": 22,
     "metadata": {},
     "output_type": "execute_result"
    }
   ],
   "source": [
    "df4['month'] =df4['Idxtrd01'].astype('datetime64[ns]')\n",
    "df4['Idxtrd08'] = df4['Idxtrd08']/100\n",
    "df4"
   ]
  },
  {
   "cell_type": "code",
   "execution_count": 23,
   "id": "dcd8d4a0",
   "metadata": {},
   "outputs": [
    {
     "data": {
      "text/html": [
       "<div>\n",
       "<style scoped>\n",
       "    .dataframe tbody tr th:only-of-type {\n",
       "        vertical-align: middle;\n",
       "    }\n",
       "\n",
       "    .dataframe tbody tr th {\n",
       "        vertical-align: top;\n",
       "    }\n",
       "\n",
       "    .dataframe thead th {\n",
       "        text-align: right;\n",
       "    }\n",
       "</style>\n",
       "<table border=\"1\" class=\"dataframe\">\n",
       "  <thead>\n",
       "    <tr style=\"text-align: right;\">\n",
       "      <th></th>\n",
       "      <th>Idxtrd01</th>\n",
       "      <th>Idxtrd08</th>\n",
       "    </tr>\n",
       "  </thead>\n",
       "  <tbody>\n",
       "    <tr>\n",
       "      <th>2015-01-05</th>\n",
       "      <td>2015-01-05</td>\n",
       "      <td>-0.004749</td>\n",
       "    </tr>\n",
       "    <tr>\n",
       "      <th>2015-01-06</th>\n",
       "      <td>2015-01-06</td>\n",
       "      <td>0.051239</td>\n",
       "    </tr>\n",
       "    <tr>\n",
       "      <th>2015-01-07</th>\n",
       "      <td>2015-01-07</td>\n",
       "      <td>-0.010677</td>\n",
       "    </tr>\n",
       "    <tr>\n",
       "      <th>2015-01-08</th>\n",
       "      <td>2015-01-08</td>\n",
       "      <td>0.012144</td>\n",
       "    </tr>\n",
       "    <tr>\n",
       "      <th>2015-01-09</th>\n",
       "      <td>2015-01-09</td>\n",
       "      <td>0.007362</td>\n",
       "    </tr>\n",
       "    <tr>\n",
       "      <th>...</th>\n",
       "      <td>...</td>\n",
       "      <td>...</td>\n",
       "    </tr>\n",
       "    <tr>\n",
       "      <th>2021-12-29</th>\n",
       "      <td>2021-12-29</td>\n",
       "      <td>-0.014019</td>\n",
       "    </tr>\n",
       "    <tr>\n",
       "      <th>2021-12-30</th>\n",
       "      <td>2021-12-30</td>\n",
       "      <td>0.012462</td>\n",
       "    </tr>\n",
       "    <tr>\n",
       "      <th>2021-12-31</th>\n",
       "      <td>2021-12-31</td>\n",
       "      <td>-0.000037</td>\n",
       "    </tr>\n",
       "    <tr>\n",
       "      <th>2022-01-01</th>\n",
       "      <td>NaN</td>\n",
       "      <td>NaN</td>\n",
       "    </tr>\n",
       "    <tr>\n",
       "      <th>2022-01-02</th>\n",
       "      <td>NaN</td>\n",
       "      <td>NaN</td>\n",
       "    </tr>\n",
       "  </tbody>\n",
       "</table>\n",
       "<p>2555 rows × 2 columns</p>\n",
       "</div>"
      ],
      "text/plain": [
       "              Idxtrd01  Idxtrd08\n",
       "2015-01-05  2015-01-05 -0.004749\n",
       "2015-01-06  2015-01-06  0.051239\n",
       "2015-01-07  2015-01-07 -0.010677\n",
       "2015-01-08  2015-01-08  0.012144\n",
       "2015-01-09  2015-01-09  0.007362\n",
       "...                ...       ...\n",
       "2021-12-29  2021-12-29 -0.014019\n",
       "2021-12-30  2021-12-30  0.012462\n",
       "2021-12-31  2021-12-31 -0.000037\n",
       "2022-01-01         NaN       NaN\n",
       "2022-01-02         NaN       NaN\n",
       "\n",
       "[2555 rows x 2 columns]"
      ]
     },
     "execution_count": 23,
     "metadata": {},
     "output_type": "execute_result"
    }
   ],
   "source": [
    "date_range = pd.date_range(start = \"20150105 \", end = \"20220102\", freq='D')\n",
    "df4 = df4.set_index('month').reindex(index = date_range)\n",
    "df4"
   ]
  },
  {
   "cell_type": "code",
   "execution_count": 24,
   "id": "95d18c10",
   "metadata": {},
   "outputs": [
    {
     "data": {
      "text/html": [
       "<div>\n",
       "<style scoped>\n",
       "    .dataframe tbody tr th:only-of-type {\n",
       "        vertical-align: middle;\n",
       "    }\n",
       "\n",
       "    .dataframe tbody tr th {\n",
       "        vertical-align: top;\n",
       "    }\n",
       "\n",
       "    .dataframe thead th {\n",
       "        text-align: right;\n",
       "    }\n",
       "</style>\n",
       "<table border=\"1\" class=\"dataframe\">\n",
       "  <thead>\n",
       "    <tr style=\"text-align: right;\">\n",
       "      <th></th>\n",
       "      <th>Idxtrd</th>\n",
       "    </tr>\n",
       "  </thead>\n",
       "  <tbody>\n",
       "    <tr>\n",
       "      <th>2015-01-11</th>\n",
       "      <td>0.055359</td>\n",
       "    </tr>\n",
       "    <tr>\n",
       "      <th>2015-01-18</th>\n",
       "      <td>0.055571</td>\n",
       "    </tr>\n",
       "    <tr>\n",
       "      <th>2015-01-25</th>\n",
       "      <td>0.035213</td>\n",
       "    </tr>\n",
       "    <tr>\n",
       "      <th>2015-02-01</th>\n",
       "      <td>-0.009844</td>\n",
       "    </tr>\n",
       "    <tr>\n",
       "      <th>2015-02-08</th>\n",
       "      <td>0.029982</td>\n",
       "    </tr>\n",
       "    <tr>\n",
       "      <th>...</th>\n",
       "      <td>...</td>\n",
       "    </tr>\n",
       "    <tr>\n",
       "      <th>2021-12-05</th>\n",
       "      <td>0.002824</td>\n",
       "    </tr>\n",
       "    <tr>\n",
       "      <th>2021-12-12</th>\n",
       "      <td>-0.003413</td>\n",
       "    </tr>\n",
       "    <tr>\n",
       "      <th>2021-12-19</th>\n",
       "      <td>-0.009362</td>\n",
       "    </tr>\n",
       "    <tr>\n",
       "      <th>2021-12-26</th>\n",
       "      <td>-0.039959</td>\n",
       "    </tr>\n",
       "    <tr>\n",
       "      <th>2022-01-02</th>\n",
       "      <td>0.007754</td>\n",
       "    </tr>\n",
       "  </tbody>\n",
       "</table>\n",
       "<p>365 rows × 1 columns</p>\n",
       "</div>"
      ],
      "text/plain": [
       "              Idxtrd\n",
       "2015-01-11  0.055359\n",
       "2015-01-18  0.055571\n",
       "2015-01-25  0.035213\n",
       "2015-02-01 -0.009844\n",
       "2015-02-08  0.029982\n",
       "...              ...\n",
       "2021-12-05  0.002824\n",
       "2021-12-12 -0.003413\n",
       "2021-12-19 -0.009362\n",
       "2021-12-26 -0.039959\n",
       "2022-01-02  0.007754\n",
       "\n",
       "[365 rows x 1 columns]"
      ]
     },
     "execution_count": 24,
     "metadata": {},
     "output_type": "execute_result"
    }
   ],
   "source": [
    "df4 = df4.drop(['Idxtrd01'],axis = 1)\n",
    "df4 = df4.fillna(0)\n",
    "df4['Idxtrd08+1'] = df4['Idxtrd08']+1\n",
    "df4 = df4.drop(['Idxtrd08'],axis = 1)\n",
    "df4 = df4.resample('W').prod()\n",
    "df4['Idxtrd'] = df4['Idxtrd08+1'] - 1\n",
    "df4 = df4.drop(['Idxtrd08+1'],axis = 1)\n",
    "df4"
   ]
  },
  {
   "cell_type": "code",
   "execution_count": 25,
   "id": "08182769",
   "metadata": {},
   "outputs": [
    {
     "data": {
      "text/plain": [
       "Text(0.5, 1.0, 'GEI weekly')"
      ]
     },
     "execution_count": 25,
     "metadata": {},
     "output_type": "execute_result"
    },
    {
     "data": {
      "image/png": "[encoded data removed]",
      "text/plain": [
       "<Figure size 432x288 with 1 Axes>"
      ]
     },
     "metadata": {
      "needs_background": "light"
     },
     "output_type": "display_data"
    }
   ],
   "source": [
    "df4.plot.kde()\n",
    "plt.title('GEI weekly')"
   ]
  },
  {
   "cell_type": "code",
   "execution_count": 26,
   "id": "36deabbb",
   "metadata": {},
   "outputs": [
    {
     "data": {
      "text/plain": [
       "KstestResult(statistic=0.07912603420279801, pvalue=0.01957000284785256)"
      ]
     },
     "execution_count": 26,
     "metadata": {},
     "output_type": "execute_result"
    }
   ],
   "source": [
    "mean = df4.Idxtrd.mean()\n",
    "std = df4.Idxtrd.std()\n",
    "df4['Idxtrd'] = df4['Idxtrd'].astype('float')\n",
    "df4_ks = stats.kstest(df4['Idxtrd'],'norm',(mean,std))\n",
    "df4_ks"
   ]
  },
  {
   "cell_type": "code",
   "execution_count": 27,
   "id": "555071f9",
   "metadata": {},
   "outputs": [
    {
     "data": {
      "text/plain": [
       "NormaltestResult(statistic=27.09617266900601, pvalue=1.3065946168671162e-06)"
      ]
     },
     "execution_count": 27,
     "metadata": {},
     "output_type": "execute_result"
    }
   ],
   "source": [
    "df4_no = stats.normaltest(df4['Idxtrd'])\n",
    "df4_no"
   ]
  },
  {
   "cell_type": "code",
   "execution_count": 28,
   "id": "8d5498dd",
   "metadata": {},
   "outputs": [
    {
     "name": "stderr",
     "output_type": "stream",
     "text": [
      "C:\\Users\\arknight\\anaconda3\\lib\\site-packages\\openpyxl\\styles\\stylesheet.py:226: UserWarning: Workbook contains no default style, apply openpyxl's default\n",
      "  warn(\"Workbook contains no default style, apply openpyxl's default\")\n"
     ]
    },
    {
     "data": {
      "text/html": [
       "<div>\n",
       "<style scoped>\n",
       "    .dataframe tbody tr th:only-of-type {\n",
       "        vertical-align: middle;\n",
       "    }\n",
       "\n",
       "    .dataframe tbody tr th {\n",
       "        vertical-align: top;\n",
       "    }\n",
       "\n",
       "    .dataframe thead th {\n",
       "        text-align: right;\n",
       "    }\n",
       "</style>\n",
       "<table border=\"1\" class=\"dataframe\">\n",
       "  <thead>\n",
       "    <tr style=\"text-align: right;\">\n",
       "      <th></th>\n",
       "      <th>Month</th>\n",
       "      <th>Idxrtn</th>\n",
       "    </tr>\n",
       "  </thead>\n",
       "  <tbody>\n",
       "    <tr>\n",
       "      <th>0</th>\n",
       "      <td>2015-01</td>\n",
       "      <td>-0.028105</td>\n",
       "    </tr>\n",
       "    <tr>\n",
       "      <th>1</th>\n",
       "      <td>2015-02</td>\n",
       "      <td>0.040314</td>\n",
       "    </tr>\n",
       "    <tr>\n",
       "      <th>2</th>\n",
       "      <td>2015-03</td>\n",
       "      <td>0.133888</td>\n",
       "    </tr>\n",
       "    <tr>\n",
       "      <th>3</th>\n",
       "      <td>2015-04</td>\n",
       "      <td>0.172463</td>\n",
       "    </tr>\n",
       "    <tr>\n",
       "      <th>4</th>\n",
       "      <td>2015-05</td>\n",
       "      <td>0.019146</td>\n",
       "    </tr>\n",
       "  </tbody>\n",
       "</table>\n",
       "</div>"
      ],
      "text/plain": [
       "     Month    Idxrtn\n",
       "0  2015-01 -0.028105\n",
       "1  2015-02  0.040314\n",
       "2  2015-03  0.133888\n",
       "3  2015-04  0.172463\n",
       "4  2015-05  0.019146"
      ]
     },
     "execution_count": 28,
     "metadata": {},
     "output_type": "execute_result"
    }
   ],
   "source": [
    "df5 = pd.read_excel('CSI300_month.xlsx')\n",
    "df5 = df5.drop((df5[df5.Indexcd.str[0]=='没']).index,axis=0)\n",
    "df5 = df5.drop((df5[df5.Indexcd.str[0]=='指']).index,axis=0)\n",
    "df5 = df5.reset_index(drop=True)\n",
    "df5 = df5.drop(['Indexcd'],axis =1)\n",
    "df5.head()"
   ]
  },
  {
   "cell_type": "code",
   "execution_count": 29,
   "id": "9322cb5d",
   "metadata": {},
   "outputs": [
    {
     "data": {
      "text/plain": [
       "Text(0.5, 1.0, 'CSI300 monthly')"
      ]
     },
     "execution_count": 29,
     "metadata": {},
     "output_type": "execute_result"
    },
    {
     "data": {
      "image/png": "[encoded data removed]",
      "text/plain": [
       "<Figure size 432x288 with 1 Axes>"
      ]
     },
     "metadata": {
      "needs_background": "light"
     },
     "output_type": "display_data"
    }
   ],
   "source": [
    "df5.plot.kde()\n",
    "plt.title('CSI300 monthly')"
   ]
  },
  {
   "cell_type": "code",
   "execution_count": 30,
   "id": "b72d163b",
   "metadata": {},
   "outputs": [
    {
     "data": {
      "text/plain": [
       "KstestResult(statistic=0.08970007633094412, pvalue=0.48116541393551715)"
      ]
     },
     "execution_count": 30,
     "metadata": {},
     "output_type": "execute_result"
    }
   ],
   "source": [
    "mean = df5.Idxrtn.mean()\n",
    "std = df5.Idxrtn.std()\n",
    "df5['Idxrtn'] = df5['Idxrtn'].astype('float')\n",
    "df5_ks = stats.kstest(df5['Idxrtn'],'norm',(mean,std))\n",
    "df5_ks"
   ]
  },
  {
   "cell_type": "code",
   "execution_count": 31,
   "id": "d1fb6802",
   "metadata": {},
   "outputs": [
    {
     "data": {
      "text/plain": [
       "NormaltestResult(statistic=7.752625151483928, pvalue=0.02072711410380474)"
      ]
     },
     "execution_count": 31,
     "metadata": {},
     "output_type": "execute_result"
    }
   ],
   "source": [
    "df5_no = stats.normaltest(df5['Idxrtn'])\n",
    "df5_no"
   ]
  },
  {
   "cell_type": "code",
   "execution_count": 32,
   "id": "1cfc3e9a",
   "metadata": {},
   "outputs": [
    {
     "name": "stderr",
     "output_type": "stream",
     "text": [
      "C:\\Users\\arknight\\anaconda3\\lib\\site-packages\\openpyxl\\styles\\stylesheet.py:226: UserWarning: Workbook contains no default style, apply openpyxl's default\n",
      "  warn(\"Workbook contains no default style, apply openpyxl's default\")\n"
     ]
    },
    {
     "data": {
      "text/html": [
       "<div>\n",
       "<style scoped>\n",
       "    .dataframe tbody tr th:only-of-type {\n",
       "        vertical-align: middle;\n",
       "    }\n",
       "\n",
       "    .dataframe tbody tr th {\n",
       "        vertical-align: top;\n",
       "    }\n",
       "\n",
       "    .dataframe thead th {\n",
       "        text-align: right;\n",
       "    }\n",
       "</style>\n",
       "<table border=\"1\" class=\"dataframe\">\n",
       "  <thead>\n",
       "    <tr style=\"text-align: right;\">\n",
       "      <th></th>\n",
       "      <th>Month</th>\n",
       "      <th>Idxrtn</th>\n",
       "    </tr>\n",
       "  </thead>\n",
       "  <tbody>\n",
       "    <tr>\n",
       "      <th>0</th>\n",
       "      <td>2015-01</td>\n",
       "      <td>0.141881</td>\n",
       "    </tr>\n",
       "    <tr>\n",
       "      <th>1</th>\n",
       "      <td>2015-02</td>\n",
       "      <td>0.147249</td>\n",
       "    </tr>\n",
       "    <tr>\n",
       "      <th>2</th>\n",
       "      <td>2015-03</td>\n",
       "      <td>0.211161</td>\n",
       "    </tr>\n",
       "    <tr>\n",
       "      <th>3</th>\n",
       "      <td>2015-04</td>\n",
       "      <td>0.223846</td>\n",
       "    </tr>\n",
       "    <tr>\n",
       "      <th>4</th>\n",
       "      <td>2015-05</td>\n",
       "      <td>0.239671</td>\n",
       "    </tr>\n",
       "  </tbody>\n",
       "</table>\n",
       "</div>"
      ],
      "text/plain": [
       "     Month    Idxrtn\n",
       "0  2015-01  0.141881\n",
       "1  2015-02  0.147249\n",
       "2  2015-03  0.211161\n",
       "3  2015-04  0.223846\n",
       "4  2015-05  0.239671"
      ]
     },
     "execution_count": 32,
     "metadata": {},
     "output_type": "execute_result"
    }
   ],
   "source": [
    "df6 = pd.read_excel('GEI_month.xlsx')\n",
    "df6 = df6.drop((df6[df6.Indexcd.str[0]=='没']).index,axis=0)\n",
    "df6 = df6.drop((df6[df6.Indexcd.str[0]=='指']).index,axis=0)\n",
    "df6 = df6.reset_index(drop=True)\n",
    "df6 = df6.drop(['Indexcd'],axis =1)\n",
    "df6.head()"
   ]
  },
  {
   "cell_type": "code",
   "execution_count": 33,
   "id": "8545eccb",
   "metadata": {},
   "outputs": [
    {
     "data": {
      "text/plain": [
       "Text(0.5, 1.0, 'GEI monthly')"
      ]
     },
     "execution_count": 33,
     "metadata": {},
     "output_type": "execute_result"
    },
    {
     "data": {
      "image/png": "[encoded data removed]",
      "text/plain": [
       "<Figure size 432x288 with 1 Axes>"
      ]
     },
     "metadata": {
      "needs_background": "light"
     },
     "output_type": "display_data"
    }
   ],
   "source": [
    "df6.plot.kde()\n",
    "plt.title('GEI monthly')"
   ]
  },
  {
   "cell_type": "code",
   "execution_count": 34,
   "id": "f65f5d89",
   "metadata": {},
   "outputs": [
    {
     "data": {
      "text/plain": [
       "KstestResult(statistic=0.10452980432854908, pvalue=0.29669044623544827)"
      ]
     },
     "execution_count": 34,
     "metadata": {},
     "output_type": "execute_result"
    }
   ],
   "source": [
    "mean = df6.Idxrtn.mean()\n",
    "std = df6.Idxrtn.std()\n",
    "df6['Idxrtn'] = df6['Idxrtn'].astype('float')\n",
    "df6_ks = stats.kstest(df6['Idxrtn'],'norm',(mean,std))\n",
    "df6_ks"
   ]
  },
  {
   "cell_type": "code",
   "execution_count": 35,
   "id": "48a239b3",
   "metadata": {},
   "outputs": [
    {
     "data": {
      "text/plain": [
       "NormaltestResult(statistic=3.3913377534503892, pvalue=0.18347646483828906)"
      ]
     },
     "execution_count": 35,
     "metadata": {},
     "output_type": "execute_result"
    }
   ],
   "source": [
    "df6_no = stats.normaltest(df6['Idxrtn'])\n",
    "df6_no"
   ]
  },
  {
   "cell_type": "code",
   "execution_count": null,
   "id": "a3fd084a",
   "metadata": {},
   "outputs": [],
   "source": []
  }
 ],
 "metadata": {
  "kernelspec": {
   "display_name": "Python 3",
   "language": "python",
   "name": "python3"
  },
  "language_info": {
   "codemirror_mode": {
    "name": "ipython",
    "version": 3
   },
   "file_extension": ".py",
   "mimetype": "text/x-python",
   "name": "python",
   "nbconvert_exporter": "python",
   "pygments_lexer": "ipython3",
   "version": "3.8.8"
  }
 },
 "nbformat": 4,
 "nbformat_minor": 5
}
