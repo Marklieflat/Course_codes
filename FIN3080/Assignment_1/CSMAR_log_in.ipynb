{
 "cells": [
  {
   "cell_type": "code",
   "execution_count": 1,
   "id": "e06abedc",
   "metadata": {},
   "outputs": [],
   "source": [
    "from csmarapi.CsmarService import CsmarService\n",
    "from csmarapi.ReportUtil import ReportUtil"
   ]
  },
  {
   "cell_type": "code",
   "execution_count": 2,
   "id": "a8c6acfd",
   "metadata": {},
   "outputs": [
    {
     "name": "stderr",
     "output_type": "stream",
     "text": [
      "D:\\anaconda\\lib\\site-packages\\urllib3\\connectionpool.py:842: InsecureRequestWarning: Unverified HTTPS request is being made. Adding certificate verification is strongly advised. See: https://urllib3.readthedocs.io/en/latest/advanced-usage.html#ssl-warnings\n",
      "  warnings.warn((\n",
      "Wed 02 Mar 2022 21:18:01 CsmarService.py INFO User login succeed\n"
     ]
    }
   ],
   "source": [
    "csmar = CsmarService()\n",
    "\n",
    "csmar.login(\"120090651@link.cuhk.edu.cn\", \"15016744246q\")"
   ]
  },
  {
   "cell_type": "code",
   "execution_count": 3,
   "id": "0da307ad",
   "metadata": {},
   "outputs": [
    {
     "name": "stdout",
     "output_type": "stream",
     "text": [
      "+--------------+----------------------+-----------+---------+\n",
      "|    table     |      tableName       | startTime | endTime |\n",
      "+--------------+----------------------+-----------+---------+\n",
      "|    TRD_Co    |       公司文件       |           |         |\n",
      "|   TRD_Cptl   |       分配文件       |           |         |\n",
      "|  TRD_Capchg  |     股本变动文件     |           |         |\n",
      "|  TRD_Dalyr   |   日个股回报率文件   |           |         |\n",
      "|   TRD_Week   |   周个股回报率文件   |           |         |\n",
      "|   TRD_Mnth   |   月个股回报率文件   |           |         |\n",
      "|   TRD_Year   |   年个股回报率文件   |           |         |\n",
      "|   TRD_Cale   |       日历文件       |           |         |\n",
      "|  TRD_Dalym   |   日市场回报率文件   |           |         |\n",
      "|  TRD_Weekm   |   周市场回报率文件   |           |         |\n",
      "|   TRD_Mont   |   月市场回报率文件   |           |         |\n",
      "|  TRD_Yearm   |   年市场回报率文件   |           |         |\n",
      "| TRD_Cndalym  | 综合日市场回报率文件 |           |         |\n",
      "|  TRD_Weekcm  | 综合周市场回报率文件 |           |         |\n",
      "|  TRD_Cnmont  | 综合月市场回报率文件 |           |         |\n",
      "|  TRD_Yearcm  | 综合年市场回报率文件 |           |         |\n",
      "|  TRD_Index   |       指数文件       |           |         |\n",
      "| TRD_Exchange |       汇率文件       |           |         |\n",
      "|  TRD_Nrrate  |    无风险利率文件    |           |         |\n",
      "+--------------+----------------------+-----------+---------+\n"
     ]
    },
    {
     "name": "stderr",
     "output_type": "stream",
     "text": [
      "D:\\anaconda\\lib\\site-packages\\urllib3\\connectionpool.py:842: InsecureRequestWarning: Unverified HTTPS request is being made. Adding certificate verification is strongly advised. See: https://urllib3.readthedocs.io/en/latest/advanced-usage.html#ssl-warnings\n",
      "  warnings.warn((\n"
     ]
    },
    {
     "data": {
      "text/plain": [
       "<csmarapi.ReportUtil.ReportUtil at 0x1e57a0ad610>"
      ]
     },
     "execution_count": 3,
     "metadata": {},
     "output_type": "execute_result"
    }
   ],
   "source": [
    "tables = csmar.getListTables('股票市场交易')\n",
    "ReportUtil(tables)"
   ]
  },
  {
   "cell_type": "code",
   "execution_count": null,
   "id": "b4e663ea",
   "metadata": {},
   "outputs": [],
   "source": []
  }
 ],
 "metadata": {
  "kernelspec": {
   "display_name": "Python 3",
   "language": "python",
   "name": "python3"
  },
  "language_info": {
   "codemirror_mode": {
    "name": "ipython",
    "version": 3
   },
   "file_extension": ".py",
   "mimetype": "text/x-python",
   "name": "python",
   "nbconvert_exporter": "python",
   "pygments_lexer": "ipython3",
   "version": "3.8.8"
  }
 },
 "nbformat": 4,
 "nbformat_minor": 5
}
