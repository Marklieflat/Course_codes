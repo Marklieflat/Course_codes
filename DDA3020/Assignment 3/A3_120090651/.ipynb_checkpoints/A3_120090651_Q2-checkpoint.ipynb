{
 "cells": [
  {
   "cell_type": "markdown",
   "id": "b606e273",
   "metadata": {},
   "source": [
    "# Handwritten Digit Recognition"
   ]
  },
  {
   "cell_type": "code",
   "execution_count": 1,
   "id": "02d8b938",
   "metadata": {},
   "outputs": [],
   "source": [
    "import os\n",
    "import time\n",
    "import pandas as pd\n",
    "import numpy as np\n",
    "import gzip\n",
    "from sklearn.neural_network import MLPClassifier\n",
    "from load_mnist import load_mnist\n",
    "import warnings\n",
    "warnings.filterwarnings('ignore')"
   ]
  },
  {
   "cell_type": "code",
   "execution_count": 2,
   "id": "d40ea4c8",
   "metadata": {},
   "outputs": [],
   "source": [
    "X_train,X_test,Y_train,Y_test  = load_mnist(path = './', flatten = True)"
   ]
  },
  {
   "cell_type": "code",
   "execution_count": 3,
   "id": "a88beca2",
   "metadata": {},
   "outputs": [
    {
     "name": "stdout",
     "output_type": "stream",
     "text": [
      "1411.7404232025146\n"
     ]
    }
   ],
   "source": [
    "para = [(50,),(200,),(784,),(50,50),(200,200),(784,784),(50,50,50),(200,200,200),(784,784,784)]\n",
    "res = pd.DataFrame(columns = ['n hidden nodes', 'n hidden layers', 'score', 'min loss', 'current loss'])\n",
    "time_start = time.time()\n",
    "for i in para:\n",
    "    mlp = MLPClassifier(solver = 'adam', activation = 'relu', alpha = 0.05, hidden_layer_sizes = i, \n",
    "                        random_state = 3020, max_iter = 100, verbose = False, learning_rate_init = 3e-4, batch_size = 512)\n",
    "    mlp.fit(X_train, Y_train)\n",
    "    chart = [i[0], len(i), mlp.score(X_test,Y_test), mlp.best_loss_, mlp.loss_]\n",
    "    res.loc[len(res)] = chart\n",
    "time_end = time.time()\n",
    "print(time_end - time_start)"
   ]
  },
  {
   "cell_type": "code",
   "execution_count": 4,
   "id": "a85bd0ef",
   "metadata": {},
   "outputs": [
    {
     "data": {
      "text/html": [
       "<div>\n",
       "<style scoped>\n",
       "    .dataframe tbody tr th:only-of-type {\n",
       "        vertical-align: middle;\n",
       "    }\n",
       "\n",
       "    .dataframe tbody tr th {\n",
       "        vertical-align: top;\n",
       "    }\n",
       "\n",
       "    .dataframe thead th {\n",
       "        text-align: right;\n",
       "    }\n",
       "</style>\n",
       "<table border=\"1\" class=\"dataframe\">\n",
       "  <thead>\n",
       "    <tr style=\"text-align: right;\">\n",
       "      <th></th>\n",
       "      <th>n hidden nodes</th>\n",
       "      <th>n hidden layers</th>\n",
       "      <th>score</th>\n",
       "      <th>min loss</th>\n",
       "      <th>current loss</th>\n",
       "    </tr>\n",
       "  </thead>\n",
       "  <tbody>\n",
       "    <tr>\n",
       "      <th>0</th>\n",
       "      <td>50.0</td>\n",
       "      <td>1.0</td>\n",
       "      <td>0.9456</td>\n",
       "      <td>0.084196</td>\n",
       "      <td>0.086025</td>\n",
       "    </tr>\n",
       "    <tr>\n",
       "      <th>1</th>\n",
       "      <td>200.0</td>\n",
       "      <td>1.0</td>\n",
       "      <td>0.9617</td>\n",
       "      <td>0.047522</td>\n",
       "      <td>0.071612</td>\n",
       "    </tr>\n",
       "    <tr>\n",
       "      <th>2</th>\n",
       "      <td>784.0</td>\n",
       "      <td>1.0</td>\n",
       "      <td>0.9718</td>\n",
       "      <td>0.076536</td>\n",
       "      <td>0.087863</td>\n",
       "    </tr>\n",
       "    <tr>\n",
       "      <th>3</th>\n",
       "      <td>50.0</td>\n",
       "      <td>2.0</td>\n",
       "      <td>0.9478</td>\n",
       "      <td>0.013194</td>\n",
       "      <td>0.013194</td>\n",
       "    </tr>\n",
       "    <tr>\n",
       "      <th>4</th>\n",
       "      <td>200.0</td>\n",
       "      <td>2.0</td>\n",
       "      <td>0.9524</td>\n",
       "      <td>0.022089</td>\n",
       "      <td>0.022089</td>\n",
       "    </tr>\n",
       "    <tr>\n",
       "      <th>5</th>\n",
       "      <td>784.0</td>\n",
       "      <td>2.0</td>\n",
       "      <td>0.9689</td>\n",
       "      <td>0.096519</td>\n",
       "      <td>0.105096</td>\n",
       "    </tr>\n",
       "    <tr>\n",
       "      <th>6</th>\n",
       "      <td>50.0</td>\n",
       "      <td>3.0</td>\n",
       "      <td>0.9577</td>\n",
       "      <td>0.010408</td>\n",
       "      <td>0.010408</td>\n",
       "    </tr>\n",
       "    <tr>\n",
       "      <th>7</th>\n",
       "      <td>200.0</td>\n",
       "      <td>3.0</td>\n",
       "      <td>0.9714</td>\n",
       "      <td>0.024690</td>\n",
       "      <td>0.025059</td>\n",
       "    </tr>\n",
       "    <tr>\n",
       "      <th>8</th>\n",
       "      <td>784.0</td>\n",
       "      <td>3.0</td>\n",
       "      <td>0.9747</td>\n",
       "      <td>0.061418</td>\n",
       "      <td>0.064022</td>\n",
       "    </tr>\n",
       "  </tbody>\n",
       "</table>\n",
       "</div>"
      ],
      "text/plain": [
       "   n hidden nodes  n hidden layers   score  min loss  current loss\n",
       "0            50.0              1.0  0.9456  0.084196      0.086025\n",
       "1           200.0              1.0  0.9617  0.047522      0.071612\n",
       "2           784.0              1.0  0.9718  0.076536      0.087863\n",
       "3            50.0              2.0  0.9478  0.013194      0.013194\n",
       "4           200.0              2.0  0.9524  0.022089      0.022089\n",
       "5           784.0              2.0  0.9689  0.096519      0.105096\n",
       "6            50.0              3.0  0.9577  0.010408      0.010408\n",
       "7           200.0              3.0  0.9714  0.024690      0.025059\n",
       "8           784.0              3.0  0.9747  0.061418      0.064022"
      ]
     },
     "execution_count": 4,
     "metadata": {},
     "output_type": "execute_result"
    }
   ],
   "source": [
    "res"
   ]
  }
 ],
 "metadata": {
  "kernelspec": {
   "display_name": "Python 3",
   "language": "python",
   "name": "python3"
  },
  "language_info": {
   "codemirror_mode": {
    "name": "ipython",
    "version": 3
   },
   "file_extension": ".py",
   "mimetype": "text/x-python",
   "name": "python",
   "nbconvert_exporter": "python",
   "pygments_lexer": "ipython3",
   "version": "3.8.8"
  }
 },
 "nbformat": 4,
 "nbformat_minor": 5
}
