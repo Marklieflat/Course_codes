{
 "cells": [
  {
   "cell_type": "markdown",
   "id": "b606e273",
   "metadata": {},
   "source": [
    "# Multi-Layer Perceptron Classifier"
   ]
  },
  {
   "cell_type": "code",
   "execution_count": 1,
   "id": "02d8b938",
   "metadata": {},
   "outputs": [],
   "source": [
    "import os\n",
    "import time\n",
    "import pandas as pd\n",
    "import numpy as np\n",
    "import gzip\n",
    "from sklearn.neural_network import MLPClassifier\n",
    "from load_mnist import load_mnist\n",
    "import warnings\n",
    "warnings.filterwarnings('ignore')"
   ]
  },
  {
   "cell_type": "code",
   "execution_count": 2,
   "id": "d40ea4c8",
   "metadata": {},
   "outputs": [],
   "source": [
    "X_train,X_test,Y_train,Y_test  = load_mnist(path = './', flatten = True)"
   ]
  },
  {
   "cell_type": "code",
   "execution_count": null,
   "id": "a88beca2",
   "metadata": {},
   "outputs": [],
   "source": [
    "para = [(50,),(200,),(784,),(50,50),(200,200),(784,784),(50,50,50),(200,200,200),(784,784,784)]\n",
    "res = pd.DataFrame(columns = ['n hidden nodes', 'n hidden layers', 'score', 'min loss', 'current loss'])\n",
    "time_start = time.time()\n",
    "for i in para:\n",
    "    mlp = MLPClassifier(solver = 'adam', activation = 'relu', alpha = 0.05, hidden_layer_sizes = i, \n",
    "                        random_state = 3020, max_iter = 1000, verbose = False, learning_rate_init = 3e-4, batch_size = 512)\n",
    "    mlp.fit(X_train, Y_train)\n",
    "    chart = [i[0], len(i), mlp.score(X_test,Y_test), mlp.best_loss_, mlp.loss_]\n",
    "    res.loc[len(res)] = chart\n",
    "time_end = time.time()\n",
    "print(time_end - time_start)"
   ]
  },
  {
   "cell_type": "code",
   "execution_count": null,
   "id": "a85bd0ef",
   "metadata": {},
   "outputs": [],
   "source": [
    "res"
   ]
  }
 ],
 "metadata": {
  "kernelspec": {
   "display_name": "Python 3",
   "language": "python",
   "name": "python3"
  },
  "language_info": {
   "codemirror_mode": {
    "name": "ipython",
    "version": 3
   },
   "file_extension": ".py",
   "mimetype": "text/x-python",
   "name": "python",
   "nbconvert_exporter": "python",
   "pygments_lexer": "ipython3",
   "version": "3.8.8"
  }
 },
 "nbformat": 4,
 "nbformat_minor": 5
}
