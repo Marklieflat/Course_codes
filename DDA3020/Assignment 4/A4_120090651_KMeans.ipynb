{
 "cells": [
  {
   "cell_type": "markdown",
   "id": "4414c63f",
   "metadata": {},
   "source": [
    "# KMeans Algorithm"
   ]
  },
  {
   "cell_type": "markdown",
   "id": "246905db",
   "metadata": {},
   "source": [
    "## KMeans Implementation Part"
   ]
  },
  {
   "cell_type": "code",
   "execution_count": 1,
   "id": "2e6cedbc",
   "metadata": {},
   "outputs": [],
   "source": [
    "import numpy as np\n",
    "import pandas as pd\n",
    "import random"
   ]
  },
  {
   "cell_type": "code",
   "execution_count": 2,
   "id": "a35f2700",
   "metadata": {},
   "outputs": [],
   "source": [
    "txt = np.loadtxt(r'./seeds_dataset.txt', dtype = float)\n",
    "X = txt[:, :7]\n",
    "y = txt[:, 7]"
   ]
  },
  {
   "cell_type": "code",
   "execution_count": 3,
   "id": "1c53e5a9",
   "metadata": {},
   "outputs": [],
   "source": [
    "def compute_distance(x, y):\n",
    "    return np.linalg.norm(y-x)"
   ]
  },
  {
   "cell_type": "code",
   "execution_count": 4,
   "id": "91ac3413",
   "metadata": {},
   "outputs": [],
   "source": [
    "def initialize_centroid(data, K):\n",
    "    data = list(data)\n",
    "    init_centroid = random.sample(data, K)\n",
    "    return init_centroid"
   ]
  },
  {
   "cell_type": "code",
   "execution_count": 5,
   "id": "debde9a6",
   "metadata": {},
   "outputs": [],
   "source": [
    "def assign_centroids(curr_cluster, K):\n",
    "    centroids = []\n",
    "    for idx in range(K):\n",
    "        centroid = np.mean(curr_cluster[idx], axis = 0)\n",
    "        centroids.append(centroid)\n",
    "    return centroids"
   ]
  },
  {
   "cell_type": "code",
   "execution_count": 6,
   "id": "5a88adb1",
   "metadata": {},
   "outputs": [],
   "source": [
    "def assign_cluster(data, curr_centroids, K):\n",
    "    curr_cluster = {}\n",
    "    for i in range(K):\n",
    "        curr_cluster[i] = []\n",
    "    for i in data:\n",
    "        clusteridx = -1\n",
    "        dist = []\n",
    "        for j in range(K):\n",
    "            dist.append(compute_distance(i, curr_centroids[j]))\n",
    "        clusteridx = dist.index(min(dist))\n",
    "        curr_cluster[clusteridx].append(i)\n",
    "    return curr_cluster"
   ]
  },
  {
   "cell_type": "code",
   "execution_count": 7,
   "id": "f896139a",
   "metadata": {},
   "outputs": [],
   "source": [
    "def silhouette_coefficient(current_clusters, K):\n",
    "    coeflist = []\n",
    "    for i in range(K):\n",
    "        near_num = [m for m in range(K)]\n",
    "        near_num.remove(i)\n",
    "        for j in current_clusters[i]:\n",
    "            a = 0\n",
    "            for k in current_clusters[i]:\n",
    "                if np.array_equal(j, k) == False:\n",
    "                    a += compute_distance(j, k)\n",
    "            a = a / (len(current_clusters[i])-1)\n",
    "            b1 = []\n",
    "            for m in near_num:\n",
    "                blst = []\n",
    "                for n in current_clusters[m]:\n",
    "                    blst.append(compute_distance(j, n))\n",
    "                bsum = sum(blst)/len(blst)\n",
    "                b1.append(bsum)\n",
    "            b = min(b1)\n",
    "            s = (b - a) / max(a, b)\n",
    "            coeflist.append(s)\n",
    "    return sum(coeflist)/210"
   ]
  },
  {
   "cell_type": "code",
   "execution_count": 8,
   "id": "1602f910",
   "metadata": {},
   "outputs": [],
   "source": [
    "def rand_index(current_clusters, txt, K):\n",
    "    predictlist = []\n",
    "    for i in range(len(current_clusters)):\n",
    "        for j in current_clusters[i]:\n",
    "            j = np.insert(j, 7, i)\n",
    "            predictlist.append(j)\n",
    "    matrix = np.stack(predictlist, axis = 0)\n",
    "    r1 = np.core.records.fromarrays([matrix[:,1],matrix[:,0]],names='a,b')\n",
    "    matrix = matrix[r1.argsort()]\n",
    "    r2 = np.core.records.fromarrays([txt[:,1],txt[:,0]],names='a,b')\n",
    "    txt_new = txt[r2.argsort()]\n",
    "    a = 0\n",
    "    b = 0\n",
    "    c = 0\n",
    "    d = 0\n",
    "    for i in range(len(matrix)):\n",
    "        for j in range(i+1, len(matrix)):\n",
    "            if (matrix[i, 7] == matrix[j, 7]) & (txt_new[i, 7] == txt_new[j, 7]):\n",
    "                a += 1\n",
    "            elif (matrix[i, 7] != matrix[j, 7]) & (txt_new[i, 7] != txt_new[j, 7]):\n",
    "                b += 1\n",
    "            elif (matrix[i, 7] == matrix[j, 7]) & (txt_new[i, 7] != txt_new[j, 7]):\n",
    "                c += 1\n",
    "            elif (matrix[i, 7] != matrix[j, 7]) & (txt_new[i, 7] == txt_new[j, 7]):\n",
    "                d += 1\n",
    "    RI = (a + b) / (a + b + c + d)\n",
    "    return RI"
   ]
  },
  {
   "cell_type": "code",
   "execution_count": 9,
   "id": "a1e8fb74",
   "metadata": {},
   "outputs": [],
   "source": [
    "def fit(k, tolerence):\n",
    "    K = k\n",
    "    tol = tolerence\n",
    "    centroids = initialize_centroid(X, K)\n",
    "    current_clusters = assign_cluster(X, centroids, K)\n",
    "    loop = True\n",
    "    while loop:\n",
    "        prev = centroids\n",
    "        centroids = assign_centroids(current_clusters, K)\n",
    "        current_clusters = assign_cluster(X, centroids, K)\n",
    "        dist_sum = 0\n",
    "        for i in range(len(centroids)):\n",
    "            dist_sum += compute_distance(prev[i], centroids[i])\n",
    "        if dist_sum < tol:\n",
    "            loop = False\n",
    "    sil = silhouette_coefficient(current_clusters, K)\n",
    "    ran = rand_index(current_clusters, txt, K)\n",
    "    return sil, ran"
   ]
  },
  {
   "cell_type": "markdown",
   "id": "8a170706",
   "metadata": {},
   "source": [
    "## Silhouette Coefficient"
   ]
  },
  {
   "cell_type": "code",
   "execution_count": 10,
   "id": "07311bec",
   "metadata": {},
   "outputs": [
    {
     "data": {
      "text/plain": [
       "0.4681390800859697"
      ]
     },
     "execution_count": 10,
     "metadata": {},
     "output_type": "execute_result"
    }
   ],
   "source": [
    "sil, ran = fit(3, 0.00001)\n",
    "sil"
   ]
  },
  {
   "cell_type": "markdown",
   "id": "1f844a85",
   "metadata": {},
   "source": [
    "## Rand Index"
   ]
  },
  {
   "cell_type": "code",
   "execution_count": 11,
   "id": "eadb39eb",
   "metadata": {},
   "outputs": [
    {
     "data": {
      "text/plain": [
       "0.8713602187286398"
      ]
     },
     "execution_count": 11,
     "metadata": {},
     "output_type": "execute_result"
    }
   ],
   "source": [
    "sil, ran = fit(3, 0.00001)\n",
    "ran"
   ]
  },
  {
   "cell_type": "markdown",
   "id": "9e063ad2",
   "metadata": {},
   "source": [
    "## Standard Deviation of evaluation scores"
   ]
  },
  {
   "cell_type": "code",
   "execution_count": 12,
   "id": "f7076790",
   "metadata": {},
   "outputs": [],
   "source": [
    "def performance_evaluation(k ,tol):\n",
    "    result = pd.DataFrame(columns = ['silhouette_coef', 'rand_index'])\n",
    "    for i in range(10):\n",
    "        sil, ran = fit(k ,tol)\n",
    "        chart = [sil, ran]\n",
    "        result.loc[len(result)] = chart\n",
    "    return result"
   ]
  },
  {
   "cell_type": "code",
   "execution_count": 13,
   "id": "2dec16d8",
   "metadata": {},
   "outputs": [],
   "source": [
    "res = performance_evaluation(3, 0.00001)\n",
    "sil_std = res['silhouette_coef'].std()\n",
    "ran_std = res['rand_index'].std()"
   ]
  },
  {
   "cell_type": "code",
   "execution_count": 14,
   "id": "ba4c31b4",
   "metadata": {},
   "outputs": [
    {
     "data": {
      "text/plain": [
       "0.0019595497772721617"
      ]
     },
     "execution_count": 14,
     "metadata": {},
     "output_type": "execute_result"
    }
   ],
   "source": [
    "sil_std"
   ]
  },
  {
   "cell_type": "code",
   "execution_count": 15,
   "id": "9267271d",
   "metadata": {},
   "outputs": [
    {
     "data": {
      "text/plain": [
       "0.001553076028554341"
      ]
     },
     "execution_count": 15,
     "metadata": {},
     "output_type": "execute_result"
    }
   ],
   "source": [
    "ran_std"
   ]
  }
 ],
 "metadata": {
  "kernelspec": {
   "display_name": "Python 3",
   "language": "python",
   "name": "python3"
  },
  "language_info": {
   "codemirror_mode": {
    "name": "ipython",
    "version": 3
   },
   "file_extension": ".py",
   "mimetype": "text/x-python",
   "name": "python",
   "nbconvert_exporter": "python",
   "pygments_lexer": "ipython3",
   "version": "3.8.8"
  }
 },
 "nbformat": 4,
 "nbformat_minor": 5
}
