{
 "cells": [
  {
   "cell_type": "code",
   "execution_count": 1,
   "metadata": {},
   "outputs": [],
   "source": [
    "import numpy as np\n",
    "import pandas as pd\n",
    "import random\n",
    "from scipy.stats import multivariate_normal"
   ]
  },
  {
   "cell_type": "code",
   "execution_count": 2,
   "metadata": {},
   "outputs": [],
   "source": [
    "data = np.loadtxt('seeds_dataset.txt')\n",
    "data_x = data[:,0:7]\n",
    "k = 3 #num of clusters\n",
    "n = len(data_x) #num of points\n",
    "m = 7 #feature of each data\n",
    "\n",
    "Mu = [[1,5,1,2,1,6,7],[1,4,3,1,1,6,1],[5,1,6,7,1,7,9]]\n",
    "\n",
    "Var = [[1,1,1,1,1,1,1],[1,1,1,1,1,1,1],[1,1,1,1,1,1,1]]\n",
    "\n",
    "Pi = [1 / k] * 3\n",
    "gamma = np.ones((n,k)) / k\n",
    "Pi = gamma.sum(axis=0) / gamma.sum()"
   ]
  },
  {
   "cell_type": "code",
   "execution_count": 3,
   "metadata": {},
   "outputs": [],
   "source": [
    "def update_gamma(data_x,Mu,Var,Pi):\n",
    "    pdf_ = np.zeros(((n, k)))\n",
    "    for i in range(k):\n",
    "        pdf_[:,i] = Pi[i] * multivariate_normal.pdf(data_x, Mu[i], np.diag(Var[i]))\n",
    "    gamma = pdf_ / pdf_.sum(axis=1).reshape(-1, 1)\n",
    "    return gamma\n"
   ]
  },
  {
   "cell_type": "code",
   "execution_count": 4,
   "metadata": {},
   "outputs": [],
   "source": [
    "def update_Pi(gamma):\n",
    "    Pi = gamma.sum(axis=0) / gamma.sum()\n",
    "    return Pi"
   ]
  },
  {
   "cell_type": "code",
   "execution_count": 5,
   "metadata": {},
   "outputs": [],
   "source": [
    "def log_likelihood(data_x,Pi,Mu,Var):\n",
    "    pdf_ = np.zeros(((n, k)))\n",
    "    for i in range(k):\n",
    "        pdf_[:,i] = Pi[i] * multivariate_normal.pdf(data_x, Mu[i], np.diag(Var[i]))\n",
    "    return np.mean(np.log(pdf_.sum(axis=1)))"
   ]
  },
  {
   "cell_type": "code",
   "execution_count": 6,
   "metadata": {},
   "outputs": [],
   "source": [
    "#M步\n",
    "def update_Mu(data_x, gamma):\n",
    "    Mu = np.zeros((k,m))\n",
    "    for i in range(k):\n",
    "        Mu[i] = np.average(data_x, axis=0, weights=gamma[:, i])\n",
    "    return Mu"
   ]
  },
  {
   "cell_type": "code",
   "execution_count": 7,
   "metadata": {},
   "outputs": [],
   "source": [
    "def update_Var(data_x, Mu, gamma):\n",
    "    Var = np.zeros((k,m))\n",
    "    for i in range(k):\n",
    "        Var[i] = np.average((data_x - Mu[i]) ** 2, axis=0, weights=gamma[:, i])\n",
    "    return Var"
   ]
  },
  {
   "cell_type": "code",
   "execution_count": 8,
   "metadata": {
    "scrolled": true
   },
   "outputs": [
    {
     "name": "stdout",
     "output_type": "stream",
     "text": [
      "[9.04527885e-01 8.36983748e-10 9.54721145e-02]\n",
      "[7.87326591e-01 5.52417786e-08 2.12673354e-01]\n",
      "[7.49689809e-01 9.95697769e-06 2.50300234e-01]\n",
      "[0.70624068 0.01266291 0.28109641]\n",
      "[0.65633945 0.04246764 0.30119291]\n"
     ]
    }
   ],
   "source": [
    "logLH_list = []\n",
    "cluster_dict = {}\n",
    "for i in range(5):\n",
    "    logLH_list.append(log_likelihood(data_x, Pi, Mu, Var))\n",
    "    gamma = update_gamma(data_x, Mu, Var, Pi)\n",
    "    Pi = update_Pi(gamma)\n",
    "    print(Pi)\n",
    "    Mu = update_Mu(data_x, gamma)\n",
    "    Var = update_Var(data_x, Mu, gamma)\n",
    "\n",
    "#print(gamma)\n"
   ]
  },
  {
   "cell_type": "code",
   "execution_count": 9,
   "metadata": {},
   "outputs": [
    {
     "name": "stdout",
     "output_type": "stream",
     "text": [
      "[0.65633945 0.04246764 0.30119291]\n",
      "[0.63661946 0.04970429 0.31367625]\n",
      "[0.63661946 0.04970429 0.31367625]\n",
      "2\n"
     ]
    }
   ],
   "source": [
    "logLH_list = []\n",
    "cluster_dict = {}\n",
    "past_Pi = [0] * 3\n",
    "temp = 1\n",
    "while all(past_Pi) != all(Pi):\n",
    "    past_Pi = Pi\n",
    "    print(past_Pi)\n",
    "    logLH_list.append(log_likelihood(data_x, Pi, Mu, Var))\n",
    "    gamma = update_gamma(data_x, Mu, Var, Pi)\n",
    "    Pi = update_Pi(gamma)\n",
    "    print(Pi)\n",
    "    Mu = update_Mu(data_x, gamma)\n",
    "    Var = update_Var(data_x, Mu, gamma)\n",
    "    temp+=1\n",
    "print(Pi)\n",
    "print(temp)"
   ]
  }
 ],
 "metadata": {
  "interpreter": {
   "hash": "0e9a1f16723d099a14672d31e4a17abc704e4b13e3a2065ee1f0ef2258e321bb"
  },
  "kernelspec": {
   "display_name": "Python 3",
   "language": "python",
   "name": "python3"
  },
  "language_info": {
   "codemirror_mode": {
    "name": "ipython",
    "version": 3
   },
   "file_extension": ".py",
   "mimetype": "text/x-python",
   "name": "python",
   "nbconvert_exporter": "python",
   "pygments_lexer": "ipython3",
   "version": "3.8.8"
  }
 },
 "nbformat": 4,
 "nbformat_minor": 2
}
