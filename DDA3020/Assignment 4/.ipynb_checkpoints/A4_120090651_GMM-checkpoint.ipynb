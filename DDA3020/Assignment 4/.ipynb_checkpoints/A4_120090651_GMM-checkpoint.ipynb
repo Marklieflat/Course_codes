{
 "cells": [
  {
   "cell_type": "markdown",
   "id": "0a024785",
   "metadata": {},
   "source": [
    "# GMM Algorithm"
   ]
  },
  {
   "cell_type": "markdown",
   "id": "2e168824",
   "metadata": {},
   "source": [
    "## GMM Implementation Part"
   ]
  },
  {
   "cell_type": "code",
   "execution_count": 1,
   "id": "e78fef3e",
   "metadata": {},
   "outputs": [],
   "source": [
    "from sklearn.utils import shuffle\n",
    "import numpy as np\n",
    "import pandas as pd\n",
    "from scipy.special import logsumexp\n",
    "from scipy.stats import multivariate_normal"
   ]
  },
  {
   "cell_type": "code",
   "execution_count": 2,
   "id": "6da4d930",
   "metadata": {},
   "outputs": [],
   "source": [
    "def compute_distance(x, y):\n",
    "    return np.linalg.norm(y-x)"
   ]
  },
  {
   "cell_type": "code",
   "execution_count": 3,
   "id": "131c9c94",
   "metadata": {},
   "outputs": [],
   "source": [
    "def initialize_para(data, K):\n",
    "    pi = [1 / K] * K\n",
    "    split_data = np.array_split(data, K)\n",
    "    mu = [np.mean(split, axis = 0) for split in split_data]\n",
    "    sigma = [np.cov(split.T) for split in split_data]\n",
    "    return pi, mu, sigma"
   ]
  },
  {
   "cell_type": "code",
   "execution_count": 4,
   "id": "1f634f50",
   "metadata": {},
   "outputs": [],
   "source": [
    "def predict(data, K, pi, mu, sigma):\n",
    "    gamma = np.zeros((len(data), K))\n",
    "    for n in range(len(data)):\n",
    "        for k in range(K):\n",
    "            num = pi[k] * multivariate_normal.pdf(data[n], mu[k], sigma[k])\n",
    "            deno = []\n",
    "            for j in range(K):\n",
    "                element = pi[j] * multivariate_normal.pdf(data[n], mu[j], sigma[j])\n",
    "                deno.append(element)\n",
    "            gamma[n][k] = num / logsumexp(deno)\n",
    "        label = []\n",
    "        for i in range(len(data)):\n",
    "            l = np.argmax(gamma[i])\n",
    "            label.append(l)\n",
    "    return label"
   ]
  },
  {
   "cell_type": "code",
   "execution_count": 5,
   "id": "f9cf7f89",
   "metadata": {},
   "outputs": [],
   "source": [
    "def fit(data, K, pi, mu, sigma, tol):\n",
    "    flag = True\n",
    "    while flag:\n",
    "        gamma = np.zeros((len(data), K))\n",
    "        for n in range(len(data)):\n",
    "            for k in range(K):\n",
    "                num = pi[k] * multivariate_normal.pdf(data[n], mu[k], sigma[k])\n",
    "                deno = []\n",
    "                for j in range(K):\n",
    "                    element = pi[j] * multivariate_normal.pdf(data[n], mu[j], sigma[j])\n",
    "                    deno.append(element)\n",
    "                gamma[n][k] = num / logsumexp(deno)\n",
    "        N = np.sum(gamma, axis = 0)\n",
    "        for k in range(K):\n",
    "            musum = 0\n",
    "            for n in range(len(data)):\n",
    "                musum += gamma[n][k] * data[n]\n",
    "            mu[k] = musum / N[k]\n",
    "        for k in range(K):\n",
    "            musum = 0\n",
    "            for n in range(len(data)):\n",
    "                musum += gamma[n][k] * np.outer((data[n] - mu[k]), (data[n] - mu[k]).T)\n",
    "            sigma[k] = musum / N[k]\n",
    "        prev = list(pi)\n",
    "        pi = [N[k] / len(data) for k in range(K)]\n",
    "        diffsum = 0\n",
    "        for i in range(len(prev)):\n",
    "            diffsum += (prev[i] - pi[i])**2\n",
    "        if diffsum <= tol:\n",
    "            flag = False\n",
    "    return pi, mu, sigma"
   ]
  },
  {
   "cell_type": "code",
   "execution_count": 6,
   "id": "ac59e690",
   "metadata": {},
   "outputs": [],
   "source": [
    "def get_curr_clusters(label, data, K):\n",
    "    labelarr = np.array(label)\n",
    "    labelarr = labelarr[:,np.newaxis]\n",
    "    new = np.hstack((data, labelarr))\n",
    "    current_clusters = {}\n",
    "    for i in range(K):\n",
    "        current_clusters[i] = []\n",
    "    for i in range(len(data)):\n",
    "        if new[i, 7] == 0:\n",
    "            current_clusters[0].append(data[i, :7])\n",
    "        elif new[i, 7] == 1:\n",
    "            current_clusters[1].append(data[i, :7])\n",
    "        elif new[i, 7] == 2:\n",
    "            current_clusters[2].append(data[i, :7])\n",
    "    return current_clusters"
   ]
  },
  {
   "cell_type": "code",
   "execution_count": 7,
   "id": "45c44178",
   "metadata": {},
   "outputs": [],
   "source": [
    "def silhouette_coefficient(current_clusters, K):\n",
    "    coeflist = []\n",
    "    for i in range(K):\n",
    "        near_num = [m for m in range(K)]\n",
    "        near_num.remove(i)\n",
    "        for j in current_clusters[i]:\n",
    "            a = 0\n",
    "            for k in current_clusters[i]:\n",
    "                if np.array_equal(j, k) == False:\n",
    "                    a += compute_distance(j, k)\n",
    "            a = a / (len(current_clusters[i])-1)\n",
    "            b1 = []\n",
    "            for m in near_num:\n",
    "                blst = []\n",
    "                for n in current_clusters[m]:\n",
    "                    blst.append(compute_distance(j, n))\n",
    "                bsum = sum(blst)/len(blst)\n",
    "                b1.append(bsum)\n",
    "            b = min(b1)\n",
    "            s = (b - a) / max(a, b)\n",
    "            coeflist.append(s)\n",
    "    return sum(coeflist)/210"
   ]
  },
  {
   "cell_type": "code",
   "execution_count": 8,
   "id": "caca7931",
   "metadata": {},
   "outputs": [],
   "source": [
    "def rand_index(current_clusters, txt, K):\n",
    "    predictlist = []\n",
    "    for i in range(len(current_clusters)):\n",
    "        for j in current_clusters[i]:\n",
    "            j = np.insert(j, 7, i)\n",
    "            predictlist.append(j)\n",
    "    matrix = np.stack(predictlist, axis = 0)\n",
    "    r1 = np.core.records.fromarrays([matrix[:,1],matrix[:,0]],names='a,b')\n",
    "    matrix = matrix[r1.argsort()]\n",
    "    r2 = np.core.records.fromarrays([txt[:,1],txt[:,0]],names='a,b')\n",
    "    txt_new = txt[r2.argsort()]\n",
    "    a = 0\n",
    "    b = 0\n",
    "    c = 0\n",
    "    d = 0\n",
    "    for i in range(len(matrix)):\n",
    "        for j in range(i+1, len(matrix)):\n",
    "            if (matrix[i, 7] == matrix[j, 7]) & (txt_new[i, 7] == txt_new[j, 7]):\n",
    "                a += 1\n",
    "            elif (matrix[i, 7] != matrix[j, 7]) & (txt_new[i, 7] != txt_new[j, 7]):\n",
    "                b += 1\n",
    "            elif (matrix[i, 7] == matrix[j, 7]) & (txt_new[i, 7] != txt_new[j, 7]):\n",
    "                c += 1\n",
    "            elif (matrix[i, 7] != matrix[j, 7]) & (txt_new[i, 7] == txt_new[j, 7]):\n",
    "                d += 1\n",
    "    RI = (a + b) / (a + b + c + d)\n",
    "    return RI"
   ]
  },
  {
   "cell_type": "code",
   "execution_count": 9,
   "id": "10efbc97",
   "metadata": {},
   "outputs": [],
   "source": [
    "def coef(K):\n",
    "    txt = np.loadtxt(r'./seeds_dataset.txt', dtype = float)\n",
    "    X = txt[:, :7]\n",
    "    X = shuffle(X)\n",
    "    pi, mu, sigma = initialize_para(X, K)\n",
    "    pi, mu, sigma = fit(X, K, pi, mu, sigma, 0.000001)\n",
    "    label = predict(X, K, pi, mu, sigma)\n",
    "    current_clusters = get_curr_clusters(label, X, K)\n",
    "    sil = silhouette_coefficient(current_clusters, K)\n",
    "    ran = rand_index(current_clusters, txt, K)\n",
    "    return sil, ran"
   ]
  },
  {
   "cell_type": "code",
   "execution_count": 10,
   "id": "a0b3d8ca",
   "metadata": {},
   "outputs": [],
   "source": [
    "sil, ran = coef(3)"
   ]
  },
  {
   "cell_type": "markdown",
   "id": "91bc44d0",
   "metadata": {},
   "source": [
    "## Silhouette Coefficient"
   ]
  },
  {
   "cell_type": "code",
   "execution_count": 11,
   "id": "9ae8234e",
   "metadata": {},
   "outputs": [
    {
     "data": {
      "text/plain": [
       "0.43077684015865764"
      ]
     },
     "execution_count": 11,
     "metadata": {},
     "output_type": "execute_result"
    }
   ],
   "source": [
    "sil"
   ]
  },
  {
   "cell_type": "markdown",
   "id": "4e444662",
   "metadata": {},
   "source": [
    "## Rand Index"
   ]
  },
  {
   "cell_type": "code",
   "execution_count": 12,
   "id": "b983474a",
   "metadata": {},
   "outputs": [
    {
     "data": {
      "text/plain": [
       "0.861699703804967"
      ]
     },
     "execution_count": 12,
     "metadata": {},
     "output_type": "execute_result"
    }
   ],
   "source": [
    "ran"
   ]
  },
  {
   "cell_type": "markdown",
   "id": "9c267fbe",
   "metadata": {},
   "source": [
    "## Standard Deviation of evaluation scores"
   ]
  },
  {
   "cell_type": "code",
   "execution_count": 13,
   "id": "d34df2c8",
   "metadata": {},
   "outputs": [],
   "source": [
    "result = pd.DataFrame(columns = ['silhouette_coef', 'rand_index'])\n",
    "for i in range(10):\n",
    "    sil, ran = coef(3)\n",
    "    chart = [sil, ran]\n",
    "    result.loc[len(result)] = chart\n",
    "sil_std = result['silhouette_coef'].std()\n",
    "ran_std = result['rand_index'].std()"
   ]
  },
  {
   "cell_type": "code",
   "execution_count": 14,
   "id": "ad1a277f",
   "metadata": {},
   "outputs": [
    {
     "data": {
      "text/plain": [
       "0.09351702449926917"
      ]
     },
     "execution_count": 14,
     "metadata": {},
     "output_type": "execute_result"
    }
   ],
   "source": [
    "sil_std"
   ]
  },
  {
   "cell_type": "code",
   "execution_count": 15,
   "id": "34353244",
   "metadata": {},
   "outputs": [
    {
     "data": {
      "text/plain": [
       "0.05541338389743444"
      ]
     },
     "execution_count": 15,
     "metadata": {},
     "output_type": "execute_result"
    }
   ],
   "source": [
    "ran_std"
   ]
  }
 ],
 "metadata": {
  "kernelspec": {
   "display_name": "Python 3",
   "language": "python",
   "name": "python3"
  },
  "language_info": {
   "codemirror_mode": {
    "name": "ipython",
    "version": 3
   },
   "file_extension": ".py",
   "mimetype": "text/x-python",
   "name": "python",
   "nbconvert_exporter": "python",
   "pygments_lexer": "ipython3",
   "version": "3.8.8"
  }
 },
 "nbformat": 4,
 "nbformat_minor": 5
}
