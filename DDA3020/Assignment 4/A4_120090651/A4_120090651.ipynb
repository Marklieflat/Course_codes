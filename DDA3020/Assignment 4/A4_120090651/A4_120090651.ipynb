{
 "cells": [
  {
   "cell_type": "markdown",
   "id": "4d052112",
   "metadata": {},
   "source": [
    "# Import the libraries"
   ]
  },
  {
   "cell_type": "code",
   "execution_count": 1,
   "id": "2e6cedbc",
   "metadata": {},
   "outputs": [],
   "source": [
    "import numpy as np\n",
    "import pandas as pd\n",
    "import random\n",
    "from sklearn.utils import shuffle # Only used to shuffle the original input data\n",
    "from scipy.special import logsumexp\n",
    "from scipy.stats import multivariate_normal"
   ]
  },
  {
   "cell_type": "markdown",
   "id": "4414c63f",
   "metadata": {},
   "source": [
    "# KMeans Algorithm"
   ]
  },
  {
   "cell_type": "markdown",
   "id": "246905db",
   "metadata": {},
   "source": [
    "## KMeans Implementation Part"
   ]
  },
  {
   "cell_type": "code",
   "execution_count": 2,
   "id": "a35f2700",
   "metadata": {},
   "outputs": [],
   "source": [
    "txt = np.loadtxt(r'./seeds_dataset.txt', dtype = float)\n",
    "X = txt[:, :7]\n",
    "y = txt[:, 7]"
   ]
  },
  {
   "cell_type": "code",
   "execution_count": 3,
   "id": "1c53e5a9",
   "metadata": {},
   "outputs": [],
   "source": [
    "def compute_distance(x, y):\n",
    "    return np.linalg.norm(y-x)"
   ]
  },
  {
   "cell_type": "code",
   "execution_count": 4,
   "id": "91ac3413",
   "metadata": {},
   "outputs": [],
   "source": [
    "def initialize_centroid(data, K):\n",
    "    data = list(data)\n",
    "    init_centroid = random.sample(data, K)\n",
    "    return init_centroid"
   ]
  },
  {
   "cell_type": "code",
   "execution_count": 5,
   "id": "debde9a6",
   "metadata": {},
   "outputs": [],
   "source": [
    "def assign_centroids(curr_cluster, K):\n",
    "    centroids = []\n",
    "    for idx in range(K):\n",
    "        centroid = np.mean(curr_cluster[idx], axis = 0)\n",
    "        centroids.append(centroid)\n",
    "    return centroids"
   ]
  },
  {
   "cell_type": "code",
   "execution_count": 6,
   "id": "5a88adb1",
   "metadata": {},
   "outputs": [],
   "source": [
    "def assign_cluster(data, curr_centroids, K):\n",
    "    curr_cluster = {}\n",
    "    for i in range(K):\n",
    "        curr_cluster[i] = []\n",
    "    for i in data:\n",
    "        clusteridx = -1\n",
    "        dist = []\n",
    "        for j in range(K):\n",
    "            dist.append(compute_distance(i, curr_centroids[j]))\n",
    "        clusteridx = dist.index(min(dist))\n",
    "        curr_cluster[clusteridx].append(i)\n",
    "    return curr_cluster"
   ]
  },
  {
   "cell_type": "code",
   "execution_count": 7,
   "id": "a1e8fb74",
   "metadata": {},
   "outputs": [],
   "source": [
    "def fit_kmeans(k, tolerence):\n",
    "    K = k\n",
    "    tol = tolerence\n",
    "    centroids = initialize_centroid(X, K)\n",
    "    current_clusters = assign_cluster(X, centroids, K)\n",
    "    loop = True\n",
    "    while loop:\n",
    "        prev = centroids\n",
    "        centroids = assign_centroids(current_clusters, K)\n",
    "        current_clusters = assign_cluster(X, centroids, K)\n",
    "        dist_sum = 0\n",
    "        for i in range(len(centroids)):\n",
    "            dist_sum += compute_distance(prev[i], centroids[i])\n",
    "        if dist_sum < tol:\n",
    "            loop = False\n",
    "    return current_clusters"
   ]
  },
  {
   "cell_type": "markdown",
   "id": "5e38fc91",
   "metadata": {},
   "source": [
    "# GMM Algorithm"
   ]
  },
  {
   "cell_type": "markdown",
   "id": "7ed4835b",
   "metadata": {},
   "source": [
    "## GMM Implementation Part"
   ]
  },
  {
   "cell_type": "code",
   "execution_count": 8,
   "id": "840101b0",
   "metadata": {},
   "outputs": [],
   "source": [
    "def initialize_para(data, K):\n",
    "    pi = [1 / K] * K\n",
    "    split_data = np.array_split(data, K)\n",
    "    mu = [np.mean(split, axis = 0) for split in split_data]\n",
    "    sigma = [np.cov(split.T) for split in split_data]\n",
    "    return pi, mu, sigma"
   ]
  },
  {
   "cell_type": "code",
   "execution_count": 9,
   "id": "ecb0fdba",
   "metadata": {},
   "outputs": [],
   "source": [
    "def update_gamma(data, K, pi, mu, sigma):\n",
    "    gamma = np.zeros((len(data), K))\n",
    "    for n in range(len(data)):\n",
    "        for k in range(K):\n",
    "            num = pi[k] * multivariate_normal.pdf(data[n], mu[k], sigma[k])\n",
    "            deno = []\n",
    "            for j in range(K):\n",
    "                element = pi[j] * multivariate_normal.pdf(data[n], mu[j], sigma[j])\n",
    "                deno.append(element)\n",
    "            gamma[n][k] = num / logsumexp(deno)\n",
    "    return gamma"
   ]
  },
  {
   "cell_type": "code",
   "execution_count": 10,
   "id": "56fe14b2",
   "metadata": {},
   "outputs": [],
   "source": [
    "def update_mu(data, K, gamma, N, mu):\n",
    "    for k in range(K):\n",
    "        musum = 0\n",
    "        for n in range(len(data)):\n",
    "            musum += gamma[n][k] * data[n]\n",
    "        mu[k] = musum / N[k]\n",
    "    return mu"
   ]
  },
  {
   "cell_type": "code",
   "execution_count": 11,
   "id": "5560d716",
   "metadata": {},
   "outputs": [],
   "source": [
    "def update_sigma(data, K, mu, gamma, sigma, N):\n",
    "    for k in range(K):\n",
    "        musum = 0\n",
    "        for n in range(len(data)):\n",
    "            musum += gamma[n][k] * np.outer((data[n] - mu[k]), (data[n] - mu[k]).T)\n",
    "        sigma[k] = musum / N[k]\n",
    "    return sigma"
   ]
  },
  {
   "cell_type": "code",
   "execution_count": 12,
   "id": "77202fbe",
   "metadata": {},
   "outputs": [],
   "source": [
    "def predict(data, K, pi, mu, sigma):\n",
    "    gamma = update_gamma(data, K, pi, mu, sigma)\n",
    "    label = []\n",
    "    for i in range(len(data)):\n",
    "        l = np.argmax(gamma[i])\n",
    "        label.append(l)\n",
    "    return label"
   ]
  },
  {
   "cell_type": "code",
   "execution_count": 13,
   "id": "410fd0d3",
   "metadata": {},
   "outputs": [],
   "source": [
    "def fit_GMM(data, K, pi, mu, sigma, tol):\n",
    "    flag = True\n",
    "    while flag:\n",
    "        gamma = update_gamma(data, K, pi, mu, sigma)\n",
    "        N = np.sum(gamma, axis = 0)\n",
    "        mu = update_mu(data, K, gamma, N, mu)\n",
    "        sigma = update_sigma(data, K, mu, gamma, sigma, N)\n",
    "        prev = list(pi)\n",
    "        pi = [N[k] / len(data) for k in range(K)]\n",
    "        diffsum = 0\n",
    "        for i in range(len(prev)):\n",
    "            diffsum += (prev[i] - pi[i])**2\n",
    "        if diffsum <= tol:\n",
    "            flag = False\n",
    "    return pi, mu, sigma"
   ]
  },
  {
   "cell_type": "code",
   "execution_count": 14,
   "id": "49c7d615",
   "metadata": {},
   "outputs": [],
   "source": [
    "def get_curr_clusters(label, data, K):\n",
    "    labelarr = np.array(label)\n",
    "    labelarr = labelarr[:,np.newaxis]\n",
    "    new = np.hstack((data, labelarr))\n",
    "    current_clusters = {}\n",
    "    for i in range(K):\n",
    "        current_clusters[i] = []\n",
    "    for i in range(len(data)):\n",
    "        if new[i, 7] == 0:\n",
    "            current_clusters[0].append(data[i, :7])\n",
    "        elif new[i, 7] == 1:\n",
    "            current_clusters[1].append(data[i, :7])\n",
    "        elif new[i, 7] == 2:\n",
    "            current_clusters[2].append(data[i, :7])\n",
    "    return current_clusters"
   ]
  },
  {
   "cell_type": "markdown",
   "id": "13243a87",
   "metadata": {},
   "source": [
    "# Calculate Silhouette Coefficient"
   ]
  },
  {
   "cell_type": "code",
   "execution_count": 15,
   "id": "3f5c02a2",
   "metadata": {},
   "outputs": [],
   "source": [
    "def silhouette_coefficient(current_clusters, K):\n",
    "    coeflist = []\n",
    "    for i in range(K):\n",
    "        near_num = [m for m in range(K)]\n",
    "        near_num.remove(i)\n",
    "        for j in current_clusters[i]:\n",
    "            a = 0\n",
    "            for k in current_clusters[i]:\n",
    "                if np.array_equal(j, k) == False:\n",
    "                    a += compute_distance(j, k)\n",
    "            a = a / (len(current_clusters[i])-1)\n",
    "            b1 = []\n",
    "            for m in near_num:\n",
    "                blst = []\n",
    "                for n in current_clusters[m]:\n",
    "                    blst.append(compute_distance(j, n))\n",
    "                bsum = sum(blst)/len(blst)\n",
    "                b1.append(bsum)\n",
    "            b = min(b1)\n",
    "            s = (b - a) / max(a, b)\n",
    "            coeflist.append(s)\n",
    "    return sum(coeflist)/210"
   ]
  },
  {
   "cell_type": "markdown",
   "id": "023fb577",
   "metadata": {},
   "source": [
    "# Calculate Rand Index"
   ]
  },
  {
   "cell_type": "code",
   "execution_count": 16,
   "id": "4ea31e12",
   "metadata": {},
   "outputs": [],
   "source": [
    "def rand_index(current_clusters, txt, K):\n",
    "    predictlist = []\n",
    "    for i in range(len(current_clusters)):\n",
    "        for j in current_clusters[i]:\n",
    "            j = np.insert(j, 7, i)\n",
    "            predictlist.append(j)\n",
    "    matrix = np.stack(predictlist, axis = 0)\n",
    "    r1 = np.core.records.fromarrays([matrix[:,1],matrix[:,0]],names='a,b')\n",
    "    matrix = matrix[r1.argsort()]\n",
    "    r2 = np.core.records.fromarrays([txt[:,1],txt[:,0]],names='a,b')\n",
    "    txt_new = txt[r2.argsort()]\n",
    "    a = 0\n",
    "    b = 0\n",
    "    c = 0\n",
    "    d = 0\n",
    "    for i in range(len(matrix)):\n",
    "        for j in range(i+1, len(matrix)):\n",
    "            if (matrix[i, 7] == matrix[j, 7]) & (txt_new[i, 7] == txt_new[j, 7]):\n",
    "                a += 1\n",
    "            elif (matrix[i, 7] != matrix[j, 7]) & (txt_new[i, 7] != txt_new[j, 7]):\n",
    "                b += 1\n",
    "            elif (matrix[i, 7] == matrix[j, 7]) & (txt_new[i, 7] != txt_new[j, 7]):\n",
    "                c += 1\n",
    "            elif (matrix[i, 7] != matrix[j, 7]) & (txt_new[i, 7] == txt_new[j, 7]):\n",
    "                d += 1\n",
    "    RI = (a + b) / (a + b + c + d)\n",
    "    return RI"
   ]
  },
  {
   "cell_type": "markdown",
   "id": "f6338ca8",
   "metadata": {},
   "source": [
    "# Calculate the sensitivity to the initialization"
   ]
  },
  {
   "cell_type": "code",
   "execution_count": 17,
   "id": "e9bcde17",
   "metadata": {},
   "outputs": [],
   "source": [
    "def performance_evaluation_Kmeans():\n",
    "    result = pd.DataFrame(columns = ['silhouette_coef', 'rand_index'])\n",
    "    for i in range(10):\n",
    "        curr_cluster = fit_kmeans(3, 0.000001)\n",
    "        sil = silhouette_coefficient(curr_cluster, 3)\n",
    "        ran = rand_index(curr_cluster, txt, 3)\n",
    "        chart = [sil, ran]\n",
    "        result.loc[len(result)] = chart\n",
    "    return result"
   ]
  },
  {
   "cell_type": "code",
   "execution_count": 18,
   "id": "3b04083d",
   "metadata": {},
   "outputs": [],
   "source": [
    "def performance_evaluation_GMM():\n",
    "    result = pd.DataFrame(columns = ['silhouette_coef', 'rand_index'])\n",
    "    for i in range(10):\n",
    "        X_ = shuffle(X)\n",
    "        pi, mu, sigma = initialize_para(X_, 3)\n",
    "        pi, mu, sigma = fit_GMM(X_, 3, pi, mu, sigma, 0.000001)\n",
    "        label = predict(X_, 3, pi, mu, sigma)\n",
    "        curr_cluster = get_curr_clusters(label, X_, 3)\n",
    "        sil = silhouette_coefficient(curr_cluster, 3)\n",
    "        ran = rand_index(curr_cluster, txt, 3)\n",
    "        chart = [sil, ran]\n",
    "        result.loc[len(result)] = chart\n",
    "    return result"
   ]
  },
  {
   "cell_type": "markdown",
   "id": "71e397ab",
   "metadata": {},
   "source": [
    "# Silhouette Coefficient and Rand Index for KMeans"
   ]
  },
  {
   "cell_type": "code",
   "execution_count": 19,
   "id": "2ec53cba",
   "metadata": {},
   "outputs": [],
   "source": [
    "curr_cluster = fit_kmeans(3, 0.000001)\n",
    "sil = silhouette_coefficient(curr_cluster, 3)\n",
    "ran = rand_index(curr_cluster, txt, 3)"
   ]
  },
  {
   "cell_type": "code",
   "execution_count": 20,
   "id": "b56fde84",
   "metadata": {},
   "outputs": [
    {
     "data": {
      "text/plain": [
       "0.47193373191268945"
      ]
     },
     "execution_count": 20,
     "metadata": {},
     "output_type": "execute_result"
    }
   ],
   "source": [
    "sil"
   ]
  },
  {
   "cell_type": "code",
   "execution_count": 21,
   "id": "83ced140",
   "metadata": {},
   "outputs": [
    {
     "data": {
      "text/plain": [
       "0.8743677375256322"
      ]
     },
     "execution_count": 21,
     "metadata": {},
     "output_type": "execute_result"
    }
   ],
   "source": [
    "ran"
   ]
  },
  {
   "cell_type": "code",
   "execution_count": 22,
   "id": "301681e1",
   "metadata": {},
   "outputs": [],
   "source": [
    "res = performance_evaluation_Kmeans()\n",
    "sil_std = res['silhouette_coef'].std()\n",
    "ran_std = res['rand_index'].std()"
   ]
  },
  {
   "cell_type": "code",
   "execution_count": 23,
   "id": "c378fe77",
   "metadata": {},
   "outputs": [
    {
     "data": {
      "text/plain": [
       "0.001832990974720474"
      ]
     },
     "execution_count": 23,
     "metadata": {},
     "output_type": "execute_result"
    }
   ],
   "source": [
    "sil_std"
   ]
  },
  {
   "cell_type": "code",
   "execution_count": 24,
   "id": "1315c523",
   "metadata": {},
   "outputs": [
    {
     "data": {
      "text/plain": [
       "0.0014527695986154717"
      ]
     },
     "execution_count": 24,
     "metadata": {},
     "output_type": "execute_result"
    }
   ],
   "source": [
    "ran_std"
   ]
  },
  {
   "cell_type": "markdown",
   "id": "2cd6a0ee",
   "metadata": {},
   "source": [
    "# Silhouette Coefficient and Rand Index for GMM"
   ]
  },
  {
   "cell_type": "code",
   "execution_count": 25,
   "id": "04e8225b",
   "metadata": {},
   "outputs": [],
   "source": [
    "X_ = shuffle(X)\n",
    "pi, mu, sigma = initialize_para(X_, 3)\n",
    "pi, mu, sigma = fit_GMM(X_, 3, pi, mu, sigma, 0.000001)\n",
    "label = predict(X_, 3, pi, mu, sigma)\n",
    "current_clusters = get_curr_clusters(label, X_, 3)\n",
    "sil = silhouette_coefficient(current_clusters, 3)\n",
    "ran = rand_index(current_clusters, txt, 3)"
   ]
  },
  {
   "cell_type": "code",
   "execution_count": 26,
   "id": "c1f28cb2",
   "metadata": {},
   "outputs": [
    {
     "data": {
      "text/plain": [
       "0.4442191107942514"
      ]
     },
     "execution_count": 26,
     "metadata": {},
     "output_type": "execute_result"
    }
   ],
   "source": [
    "sil"
   ]
  },
  {
   "cell_type": "code",
   "execution_count": 27,
   "id": "ec010e63",
   "metadata": {},
   "outputs": [
    {
     "data": {
      "text/plain": [
       "0.8769195716564138"
      ]
     },
     "execution_count": 27,
     "metadata": {},
     "output_type": "execute_result"
    }
   ],
   "source": [
    "ran"
   ]
  },
  {
   "cell_type": "code",
   "execution_count": 28,
   "id": "f1978f63",
   "metadata": {},
   "outputs": [],
   "source": [
    "result = performance_evaluation_GMM()\n",
    "sil_std = result['silhouette_coef'].std()\n",
    "ran_std = result['rand_index'].std()"
   ]
  },
  {
   "cell_type": "code",
   "execution_count": 29,
   "id": "614b3d13",
   "metadata": {},
   "outputs": [
    {
     "data": {
      "text/plain": [
       "0.03991633229536218"
      ]
     },
     "execution_count": 29,
     "metadata": {},
     "output_type": "execute_result"
    }
   ],
   "source": [
    "sil_std"
   ]
  },
  {
   "cell_type": "code",
   "execution_count": 30,
   "id": "773305d5",
   "metadata": {},
   "outputs": [
    {
     "data": {
      "text/plain": [
       "0.0602683539129245"
      ]
     },
     "execution_count": 30,
     "metadata": {},
     "output_type": "execute_result"
    }
   ],
   "source": [
    "ran_std"
   ]
  }
 ],
 "metadata": {
  "kernelspec": {
   "display_name": "Python 3",
   "language": "python",
   "name": "python3"
  },
  "language_info": {
   "codemirror_mode": {
    "name": "ipython",
    "version": 3
   },
   "file_extension": ".py",
   "mimetype": "text/x-python",
   "name": "python",
   "nbconvert_exporter": "python",
   "pygments_lexer": "ipython3",
   "version": "3.8.8"
  }
 },
 "nbformat": 4,
 "nbformat_minor": 5
}
